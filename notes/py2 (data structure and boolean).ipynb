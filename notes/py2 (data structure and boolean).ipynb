{
 "cells": [
  {
   "cell_type": "markdown",
   "id": "b0b15434",
   "metadata": {},
   "source": [
    "py2 notes"
   ]
  },
  {
   "cell_type": "markdown",
   "id": "9f8db861",
   "metadata": {},
   "source": [
    "# Python Data Structures and Boolean\n",
    "\n",
    "    Boolean\n",
    "    Boolean and Logical Operators\n",
    "    Lists\n",
    "    Comparison operators\n",
    "    Dictionaries\n",
    "    Tuples"
   ]
  },
  {
   "cell_type": "markdown",
   "id": "e8212623",
   "metadata": {},
   "source": [
    "# Boolean\n",
    "Boolean Variables\n",
    "\n",
    "Boolean values are the two constant objects False and True.\n",
    "\n",
    "They are used to represent truth values (other values can also be considered false or true).\n",
    "\n",
    "In numeric contexts (for example, when used as the argument to an arithmetic operator), they behave like the integers 0 and 1, respectively.\n",
    "\n",
    "The built-in function bool() can be used to cast any value to a Boolean, if the value can be interpreted as a truth value\n",
    "\n",
    "They are written as False and True, respectively.\n"
   ]
  },
  {
   "cell_type": "code",
   "execution_count": 4,
   "id": "3df0becf",
   "metadata": {
    "scrolled": true
   },
   "outputs": [
    {
     "data": {
      "text/plain": [
       "bool"
      ]
     },
     "execution_count": 4,
     "metadata": {},
     "output_type": "execute_result"
    }
   ],
   "source": [
    "type(True)"
   ]
  },
  {
   "cell_type": "code",
   "execution_count": 7,
   "id": "01e88613",
   "metadata": {},
   "outputs": [],
   "source": [
    "# inbuilt bool functions in python"
   ]
  },
  {
   "cell_type": "code",
   "execution_count": 46,
   "id": "baef4fe3",
   "metadata": {},
   "outputs": [],
   "source": [
    "my_str=\"zeta\""
   ]
  },
  {
   "cell_type": "code",
   "execution_count": 21,
   "id": "676a3060",
   "metadata": {},
   "outputs": [],
   "source": [
    "#syntax \n",
    "\n",
    "#print(my_str.()) \n",
    "\n",
    "\n",
    "##to see the list of inbuilt functions press Tab after .\n",
    "\n"
   ]
  },
  {
   "cell_type": "code",
   "execution_count": 22,
   "id": "2eaf56e6",
   "metadata": {},
   "outputs": [],
   "source": [
    "#(my_str.capitalize()) ##to check the specific usecase of that function press shift + tab before ()"
   ]
  },
  {
   "cell_type": "code",
   "execution_count": 52,
   "id": "3dd40031",
   "metadata": {},
   "outputs": [
    {
     "name": "stdout",
     "output_type": "stream",
     "text": [
      "True\n",
      "True\n",
      "False\n",
      "False\n",
      "False\n",
      "True\n",
      "False\n",
      "False\n",
      "False\n"
     ]
    }
   ],
   "source": [
    "print(my_str.isalnum()) #check if all char are alphabet or numbers or both\n",
    "print(my_str.isalpha()) #check if all char in the string are alphabetic\n",
    "print(my_str.isdigit()) #test if string contains digits\n",
    "print(my_str.istitle()) #test if string contains title words means starting of each word should be uppercase then true else false\n",
    "print(my_str.isupper()) #test if string contains upper case \n",
    "print(my_str.islower()) #test if string contains lower case\n",
    "print(my_str.isspace()) #test if string contains spaces\n",
    "print(my_str.endswith('k')) #test if string endswith a k\n",
    "print(my_str.startswith('K')) #test if string startswith K"
   ]
  },
  {
   "cell_type": "markdown",
   "id": "97b03582",
   "metadata": {},
   "source": [
    "# Boolean and Logical Operators"
   ]
  },
  {
   "cell_type": "code",
   "execution_count": 53,
   "id": "2e7f9582",
   "metadata": {},
   "outputs": [
    {
     "data": {
      "text/plain": [
       "True"
      ]
     },
     "execution_count": 53,
     "metadata": {},
     "output_type": "execute_result"
    }
   ],
   "source": [
    "True and True\n"
   ]
  },
  {
   "cell_type": "code",
   "execution_count": 54,
   "id": "96c204b6",
   "metadata": {},
   "outputs": [
    {
     "data": {
      "text/plain": [
       "False"
      ]
     },
     "execution_count": 54,
     "metadata": {},
     "output_type": "execute_result"
    }
   ],
   "source": [
    "True and False"
   ]
  },
  {
   "cell_type": "code",
   "execution_count": 55,
   "id": "47032f6e",
   "metadata": {},
   "outputs": [
    {
     "data": {
      "text/plain": [
       "False"
      ]
     },
     "execution_count": 55,
     "metadata": {},
     "output_type": "execute_result"
    }
   ],
   "source": [
    "False and False"
   ]
  },
  {
   "cell_type": "code",
   "execution_count": 56,
   "id": "191896ed",
   "metadata": {},
   "outputs": [
    {
     "data": {
      "text/plain": [
       "True"
      ]
     },
     "execution_count": 56,
     "metadata": {},
     "output_type": "execute_result"
    }
   ],
   "source": [
    "False or True"
   ]
  },
  {
   "cell_type": "code",
   "execution_count": 57,
   "id": "f380e1a4",
   "metadata": {},
   "outputs": [
    {
     "data": {
      "text/plain": [
       "True"
      ]
     },
     "execution_count": 57,
     "metadata": {},
     "output_type": "execute_result"
    }
   ],
   "source": [
    "True or False"
   ]
  },
  {
   "cell_type": "code",
   "execution_count": 58,
   "id": "a343b562",
   "metadata": {},
   "outputs": [
    {
     "data": {
      "text/plain": [
       "True"
      ]
     },
     "execution_count": 58,
     "metadata": {},
     "output_type": "execute_result"
    }
   ],
   "source": [
    "True or True"
   ]
  },
  {
   "cell_type": "code",
   "execution_count": 64,
   "id": "7e89e94a",
   "metadata": {},
   "outputs": [
    {
     "data": {
      "text/plain": [
       "False"
      ]
     },
     "execution_count": 64,
     "metadata": {},
     "output_type": "execute_result"
    }
   ],
   "source": [
    "False or False #both false for for or then only false else it will be true for every other or"
   ]
  },
  {
   "cell_type": "code",
   "execution_count": 62,
   "id": "bfce6af5",
   "metadata": {},
   "outputs": [],
   "source": [
    "str_example='Hello World'\n",
    "my_str='zera'\n"
   ]
  },
  {
   "cell_type": "code",
   "execution_count": 63,
   "id": "337d2a80",
   "metadata": {},
   "outputs": [
    {
     "data": {
      "text/plain": [
       "True"
      ]
     },
     "execution_count": 63,
     "metadata": {},
     "output_type": "execute_result"
    }
   ],
   "source": [
    "my_str.isalpha() or str_example.isnum()"
   ]
  },
  {
   "cell_type": "markdown",
   "id": "2806bc9a",
   "metadata": {},
   "source": [
    "# Lists"
   ]
  },
  {
   "cell_type": "code",
   "execution_count": 65,
   "id": "6080da88",
   "metadata": {},
   "outputs": [],
   "source": [
    "#list is a data structure in python which can be changed. it is basically an ordered sequence of elements seperated by , \n",
    "#  values are defined inside []"
   ]
  },
  {
   "cell_type": "code",
   "execution_count": 66,
   "id": "680098d7",
   "metadata": {},
   "outputs": [
    {
     "data": {
      "text/plain": [
       "list"
      ]
     },
     "execution_count": 66,
     "metadata": {},
     "output_type": "execute_result"
    }
   ],
   "source": [
    "type([])"
   ]
  },
  {
   "cell_type": "code",
   "execution_count": 68,
   "id": "1ee047af",
   "metadata": {},
   "outputs": [],
   "source": [
    "l=[]"
   ]
  },
  {
   "cell_type": "code",
   "execution_count": 69,
   "id": "53ea2bbd",
   "metadata": {},
   "outputs": [
    {
     "data": {
      "text/plain": [
       "list"
      ]
     },
     "execution_count": 69,
     "metadata": {},
     "output_type": "execute_result"
    }
   ],
   "source": [
    "type(l)"
   ]
  },
  {
   "cell_type": "code",
   "execution_count": 73,
   "id": "0de86138",
   "metadata": {},
   "outputs": [],
   "source": [
    "lsst = list() #list() is python inbuilt list function"
   ]
  },
  {
   "cell_type": "code",
   "execution_count": 95,
   "id": "0168be0c",
   "metadata": {},
   "outputs": [],
   "source": [
    "lsst = ['harry','sheesh',12,667,99] #we can add different data types in list each is treated as one before ,"
   ]
  },
  {
   "cell_type": "code",
   "execution_count": 96,
   "id": "2b763e43",
   "metadata": {},
   "outputs": [
    {
     "data": {
      "text/plain": [
       "5"
      ]
     },
     "execution_count": 96,
     "metadata": {},
     "output_type": "execute_result"
    }
   ],
   "source": [
    "len(lsst)"
   ]
  },
  {
   "cell_type": "markdown",
   "id": "34bbcd8c",
   "metadata": {},
   "source": [
    "# Append"
   ]
  },
  {
   "cell_type": "code",
   "execution_count": 77,
   "id": "3b9ce085",
   "metadata": {},
   "outputs": [],
   "source": [
    "#append is used to add elements in the list \n",
    "# new elements with append will be added in the last."
   ]
  },
  {
   "cell_type": "code",
   "execution_count": 97,
   "id": "2e304289",
   "metadata": {},
   "outputs": [],
   "source": [
    "lsst.append(\"x\") #append only take one argument at a time so we can add only one element at a time with append"
   ]
  },
  {
   "cell_type": "code",
   "execution_count": 98,
   "id": "334d32f6",
   "metadata": {},
   "outputs": [
    {
     "name": "stdout",
     "output_type": "stream",
     "text": [
      "['harry', 'sheesh', 12, 667, 99, 'x']\n"
     ]
    }
   ],
   "source": [
    "print(lsst)"
   ]
  },
  {
   "cell_type": "code",
   "execution_count": 103,
   "id": "c4e589f7",
   "metadata": {},
   "outputs": [
    {
     "data": {
      "text/plain": [
       "'x'"
      ]
     },
     "execution_count": 103,
     "metadata": {},
     "output_type": "execute_result"
    }
   ],
   "source": [
    "##Indexing in List\n",
    "lsst[5]\n"
   ]
  },
  {
   "cell_type": "code",
   "execution_count": 104,
   "id": "584c15c0",
   "metadata": {},
   "outputs": [
    {
     "data": {
      "text/plain": [
       "['sheesh', 12, 667, 99]"
      ]
     },
     "execution_count": 104,
     "metadata": {},
     "output_type": "execute_result"
    }
   ],
   "source": [
    "lsst[1:5]"
   ]
  },
  {
   "cell_type": "markdown",
   "id": "e9644adc",
   "metadata": {},
   "source": [
    "# Insert"
   ]
  },
  {
   "cell_type": "code",
   "execution_count": 101,
   "id": "275f592b",
   "metadata": {},
   "outputs": [],
   "source": [
    "#helps in inserting values in a specific order"
   ]
  },
  {
   "cell_type": "code",
   "execution_count": 105,
   "id": "72ad1364",
   "metadata": {},
   "outputs": [],
   "source": [
    "lsst.insert(2,\"karen\")"
   ]
  },
  {
   "cell_type": "code",
   "execution_count": 106,
   "id": "29aeabb6",
   "metadata": {},
   "outputs": [
    {
     "data": {
      "text/plain": [
       "['harry', 'sheesh', 'karen', 12, 667, 99, 'x']"
      ]
     },
     "execution_count": 106,
     "metadata": {},
     "output_type": "execute_result"
    }
   ],
   "source": [
    "lsst"
   ]
  },
  {
   "cell_type": "markdown",
   "id": "ff5a2c4e",
   "metadata": {},
   "source": [
    "# Extend method"
   ]
  },
  {
   "cell_type": "code",
   "execution_count": 107,
   "id": "b525738a",
   "metadata": {},
   "outputs": [],
   "source": [
    "#extend is used as with append if we pass two arguments at a time then they will result in nested list.\n",
    "#example="
   ]
  },
  {
   "cell_type": "code",
   "execution_count": 108,
   "id": "5b0fbfa0",
   "metadata": {},
   "outputs": [],
   "source": [
    "lsst.append([4,5])"
   ]
  },
  {
   "cell_type": "code",
   "execution_count": 109,
   "id": "ea830b0e",
   "metadata": {},
   "outputs": [
    {
     "data": {
      "text/plain": [
       "['harry', 'sheesh', 'karen', 12, 667, 99, 'x', [4, 5]]"
      ]
     },
     "execution_count": 109,
     "metadata": {},
     "output_type": "execute_result"
    }
   ],
   "source": [
    "lsst"
   ]
  },
  {
   "cell_type": "code",
   "execution_count": 110,
   "id": "f23f94dc",
   "metadata": {},
   "outputs": [],
   "source": [
    "#now with extend we can avoid that and they will be added as elements in the list"
   ]
  },
  {
   "cell_type": "code",
   "execution_count": 111,
   "id": "53c3855f",
   "metadata": {},
   "outputs": [],
   "source": [
    "lsst.extend([88,9])"
   ]
  },
  {
   "cell_type": "code",
   "execution_count": 112,
   "id": "ab8daf8e",
   "metadata": {},
   "outputs": [
    {
     "data": {
      "text/plain": [
       "['harry', 'sheesh', 'karen', 12, 667, 99, 'x', [4, 5], 88, 9]"
      ]
     },
     "execution_count": 112,
     "metadata": {},
     "output_type": "execute_result"
    }
   ],
   "source": [
    "lsst"
   ]
  },
  {
   "cell_type": "markdown",
   "id": "9b4014e3",
   "metadata": {},
   "source": [
    "# Various Operations that we can perform in List"
   ]
  },
  {
   "cell_type": "code",
   "execution_count": 122,
   "id": "4219fc04",
   "metadata": {},
   "outputs": [],
   "source": [
    "lzst=[1,2,3,4,5]"
   ]
  },
  {
   "cell_type": "code",
   "execution_count": 123,
   "id": "5621cdb4",
   "metadata": {},
   "outputs": [
    {
     "data": {
      "text/plain": [
       "15"
      ]
     },
     "execution_count": 123,
     "metadata": {},
     "output_type": "execute_result"
    }
   ],
   "source": [
    "sum(lzst)"
   ]
  },
  {
   "cell_type": "code",
   "execution_count": 124,
   "id": "d262332f",
   "metadata": {},
   "outputs": [
    {
     "data": {
      "text/plain": [
       "[1, 2, 3, 4, 5, 1, 2, 3, 4, 5]"
      ]
     },
     "execution_count": 124,
     "metadata": {},
     "output_type": "execute_result"
    }
   ],
   "source": [
    "lzst * 2 #appends the list by n"
   ]
  },
  {
   "cell_type": "markdown",
   "id": "51b2ffbf",
   "metadata": {},
   "source": [
    "# Pop() Method"
   ]
  },
  {
   "cell_type": "code",
   "execution_count": 118,
   "id": "a9813e51",
   "metadata": {},
   "outputs": [],
   "source": [
    "# pop() method is used to remove a element from the list whose index is given in (). if not specified it will remove the last element."
   ]
  },
  {
   "cell_type": "code",
   "execution_count": 126,
   "id": "ea295868",
   "metadata": {},
   "outputs": [
    {
     "data": {
      "text/plain": [
       "5"
      ]
     },
     "execution_count": 126,
     "metadata": {},
     "output_type": "execute_result"
    }
   ],
   "source": [
    "lzst.pop() #as index is'nt specifies in () . by default last element will be removed"
   ]
  },
  {
   "cell_type": "code",
   "execution_count": 127,
   "id": "6daa0cce",
   "metadata": {},
   "outputs": [
    {
     "data": {
      "text/plain": [
       "[1, 2, 3, 4]"
      ]
     },
     "execution_count": 127,
     "metadata": {},
     "output_type": "execute_result"
    }
   ],
   "source": [
    "lzst"
   ]
  },
  {
   "cell_type": "code",
   "execution_count": 128,
   "id": "5e58ff4b",
   "metadata": {},
   "outputs": [
    {
     "data": {
      "text/plain": [
       "3"
      ]
     },
     "execution_count": 128,
     "metadata": {},
     "output_type": "execute_result"
    }
   ],
   "source": [
    "lzst.pop(2) #now element at index(2) will be removed"
   ]
  },
  {
   "cell_type": "code",
   "execution_count": 129,
   "id": "6b945245",
   "metadata": {},
   "outputs": [
    {
     "data": {
      "text/plain": [
       "[1, 2, 4]"
      ]
     },
     "execution_count": 129,
     "metadata": {},
     "output_type": "execute_result"
    }
   ],
   "source": [
    "lzst"
   ]
  },
  {
   "cell_type": "markdown",
   "id": "fe62ca91",
   "metadata": {},
   "source": [
    "# count():Calculates total occurrence of given element of List"
   ]
  },
  {
   "cell_type": "code",
   "execution_count": 130,
   "id": "f8cce0b0",
   "metadata": {},
   "outputs": [
    {
     "data": {
      "text/plain": [
       "2"
      ]
     },
     "execution_count": 130,
     "metadata": {},
     "output_type": "execute_result"
    }
   ],
   "source": [
    "lst=[1,1,2,3,4,5]\n",
    "lst.count(1)\n"
   ]
  },
  {
   "cell_type": "code",
   "execution_count": 131,
   "id": "d743a36d",
   "metadata": {},
   "outputs": [
    {
     "data": {
      "text/plain": [
       "6"
      ]
     },
     "execution_count": 131,
     "metadata": {},
     "output_type": "execute_result"
    }
   ],
   "source": [
    "#length:Calculates total length of List\n",
    "len(lst)"
   ]
  },
  {
   "cell_type": "code",
   "execution_count": 132,
   "id": "23bbe509",
   "metadata": {},
   "outputs": [
    {
     "data": {
      "text/plain": [
       "1"
      ]
     },
     "execution_count": 132,
     "metadata": {},
     "output_type": "execute_result"
    }
   ],
   "source": [
    "# index(): Returns the index of first occurrence. Start and End index are not necessary parameters\n",
    "lst.index(1,1,4)\n"
   ]
  },
  {
   "cell_type": "code",
   "execution_count": 133,
   "id": "78adb2aa",
   "metadata": {},
   "outputs": [
    {
     "data": {
      "text/plain": [
       "1"
      ]
     },
     "execution_count": 133,
     "metadata": {},
     "output_type": "execute_result"
    }
   ],
   "source": [
    "##Min and Max\n",
    "min(lst)\n"
   ]
  },
  {
   "cell_type": "code",
   "execution_count": 134,
   "id": "bc2c571b",
   "metadata": {},
   "outputs": [
    {
     "data": {
      "text/plain": [
       "5"
      ]
     },
     "execution_count": 134,
     "metadata": {},
     "output_type": "execute_result"
    }
   ],
   "source": [
    "max(lst)"
   ]
  },
  {
   "cell_type": "code",
   "execution_count": null,
   "id": "25cf8c98",
   "metadata": {},
   "outputs": [],
   "source": []
  }
 ],
 "metadata": {
  "kernelspec": {
   "display_name": "Python 3 (ipykernel)",
   "language": "python",
   "name": "python3"
  },
  "language_info": {
   "codemirror_mode": {
    "name": "ipython",
    "version": 3
   },
   "file_extension": ".py",
   "mimetype": "text/x-python",
   "name": "python",
   "nbconvert_exporter": "python",
   "pygments_lexer": "ipython3",
   "version": "3.11.3"
  }
 },
 "nbformat": 4,
 "nbformat_minor": 5
}
