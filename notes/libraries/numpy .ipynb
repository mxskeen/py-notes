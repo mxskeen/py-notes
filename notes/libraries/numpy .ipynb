{
 "cells": [
  {
   "cell_type": "code",
   "execution_count": 4,
   "id": "5621dcea",
   "metadata": {},
   "outputs": [],
   "source": [
    "import numpy as np"
   ]
  },
  {
   "cell_type": "markdown",
   "id": "ba385282",
   "metadata": {},
   "source": [
    "# list vs numpy speed test"
   ]
  },
  {
   "cell_type": "code",
   "execution_count": 5,
   "id": "7f544071",
   "metadata": {},
   "outputs": [],
   "source": [
    "from time import process_time"
   ]
  },
  {
   "cell_type": "code",
   "execution_count": 4,
   "id": "9e0e222a",
   "metadata": {},
   "outputs": [],
   "source": [
    "#list speed"
   ]
  },
  {
   "cell_type": "code",
   "execution_count": 6,
   "id": "c8a3ed47",
   "metadata": {},
   "outputs": [
    {
     "name": "stdout",
     "output_type": "stream",
     "text": [
      "0.0002562790000000259\n"
     ]
    }
   ],
   "source": [
    "py_list = [i for i in range(10000)]\n",
    "start_time = process_time()\n",
    "py_list = [i+5 for i in py_list]\n",
    "end_time = process_time()\n",
    "print(end_time - start_time)"
   ]
  },
  {
   "cell_type": "code",
   "execution_count": 11,
   "id": "2ca173cc",
   "metadata": {},
   "outputs": [],
   "source": [
    "#numpy speed"
   ]
  },
  {
   "cell_type": "code",
   "execution_count": 9,
   "id": "2ad914a8",
   "metadata": {},
   "outputs": [
    {
     "name": "stdout",
     "output_type": "stream",
     "text": [
      "5.583799999997474e-05\n"
     ]
    }
   ],
   "source": [
    "np_array = np.array([i for i in range(10000)])\n",
    "start_time = process_time()\n",
    "np_array += 5\n",
    "end_time = process_time()\n",
    "print(end_time - start_time)"
   ]
  },
  {
   "cell_type": "code",
   "execution_count": 10,
   "id": "3d6e3241",
   "metadata": {},
   "outputs": [],
   "source": [
    "#list "
   ]
  },
  {
   "cell_type": "code",
   "execution_count": 12,
   "id": "5cdadb5b",
   "metadata": {},
   "outputs": [
    {
     "name": "stdout",
     "output_type": "stream",
     "text": [
      "[1, 2, 3]\n"
     ]
    },
    {
     "data": {
      "text/plain": [
       "list"
      ]
     },
     "execution_count": 12,
     "metadata": {},
     "output_type": "execute_result"
    }
   ],
   "source": [
    "list1 = [1,2,3]\n",
    "print(list1)\n",
    "type(list1)"
   ]
  },
  {
   "cell_type": "code",
   "execution_count": null,
   "id": "cd3581fa",
   "metadata": {},
   "outputs": [],
   "source": [
    "#numpy array"
   ]
  },
  {
   "cell_type": "code",
   "execution_count": 11,
   "id": "c80a3180",
   "metadata": {},
   "outputs": [
    {
     "name": "stdout",
     "output_type": "stream",
     "text": [
      "[1 2 3 4 5]\n"
     ]
    },
    {
     "data": {
      "text/plain": [
       "numpy.ndarray"
      ]
     },
     "execution_count": 11,
     "metadata": {},
     "output_type": "execute_result"
    }
   ],
   "source": [
    "np_array = np.array([1,2,3,4,5]) #syntax ([])\n",
    "print(np_array)\n",
    "type(np_array)"
   ]
  },
  {
   "cell_type": "code",
   "execution_count": 15,
   "id": "2386e8ec",
   "metadata": {},
   "outputs": [
    {
     "name": "stdout",
     "output_type": "stream",
     "text": [
      "[[1 2 3]\n",
      " [3 5 6]]\n"
     ]
    },
    {
     "data": {
      "text/plain": [
       "numpy.ndarray"
      ]
     },
     "execution_count": 15,
     "metadata": {},
     "output_type": "execute_result"
    }
   ],
   "source": [
    "np_array = np.array([(1,2,3),(3,5,6)])\n",
    "print(np_array)\n",
    "type(np_array)"
   ]
  },
  {
   "cell_type": "code",
   "execution_count": 16,
   "id": "2ce03a2d",
   "metadata": {},
   "outputs": [
    {
     "name": "stdout",
     "output_type": "stream",
     "text": [
      "[1 2 6]\n"
     ]
    }
   ],
   "source": [
    "a = np.array([1,2,6])\n",
    "print(a)"
   ]
  },
  {
   "cell_type": "code",
   "execution_count": 18,
   "id": "200f9091",
   "metadata": {},
   "outputs": [
    {
     "data": {
      "text/plain": [
       "(3,)"
      ]
     },
     "execution_count": 18,
     "metadata": {},
     "output_type": "execute_result"
    }
   ],
   "source": [
    "a.shape"
   ]
  },
  {
   "cell_type": "code",
   "execution_count": 20,
   "id": "eb7a6627",
   "metadata": {},
   "outputs": [
    {
     "name": "stdout",
     "output_type": "stream",
     "text": [
      "[[1 7 9]\n",
      " [5 9 0]]\n"
     ]
    }
   ],
   "source": [
    "b= np.array([(1,7,9),(5,9,0)])\n",
    "print(b)"
   ]
  },
  {
   "cell_type": "code",
   "execution_count": 21,
   "id": "76f0ec36",
   "metadata": {},
   "outputs": [
    {
     "data": {
      "text/plain": [
       "(2, 3)"
      ]
     },
     "execution_count": 21,
     "metadata": {},
     "output_type": "execute_result"
    }
   ],
   "source": [
    "b.shape"
   ]
  },
  {
   "cell_type": "code",
   "execution_count": 22,
   "id": "5b249fc2",
   "metadata": {},
   "outputs": [
    {
     "name": "stdout",
     "output_type": "stream",
     "text": [
      "[[1. 2. 3. 6.]\n",
      " [3. 7. 4. 4.]]\n"
     ]
    }
   ],
   "source": [
    "c = np.array ([(1,2,3,6),(3,7,4,4)],dtype = float)\n",
    "print(c)"
   ]
  },
  {
   "cell_type": "code",
   "execution_count": 23,
   "id": "12422366",
   "metadata": {},
   "outputs": [],
   "source": [
    "#create a numpy array with zeroes"
   ]
  },
  {
   "cell_type": "code",
   "execution_count": 26,
   "id": "9717cc95",
   "metadata": {
    "scrolled": true
   },
   "outputs": [
    {
     "name": "stdout",
     "output_type": "stream",
     "text": [
      "[[0 0 0 0 0]\n",
      " [0 0 0 0 0]\n",
      " [0 0 0 0 0]\n",
      " [0 0 0 0 0]]\n"
     ]
    }
   ],
   "source": [
    "c = np.zeros((4,5),dtype = int)\n",
    "print(c)"
   ]
  },
  {
   "cell_type": "code",
   "execution_count": 27,
   "id": "da277b46",
   "metadata": {},
   "outputs": [
    {
     "name": "stdout",
     "output_type": "stream",
     "text": [
      "[[1. 1. 1. 1. 1. 1.]\n",
      " [1. 1. 1. 1. 1. 1.]\n",
      " [1. 1. 1. 1. 1. 1.]\n",
      " [1. 1. 1. 1. 1. 1.]]\n"
     ]
    }
   ],
   "source": [
    "d = np.ones((4,6))\n",
    "print(d)"
   ]
  },
  {
   "cell_type": "code",
   "execution_count": 28,
   "id": "08aec715",
   "metadata": {},
   "outputs": [],
   "source": [
    "#in upper default is float we need to define dtype everytime"
   ]
  },
  {
   "cell_type": "code",
   "execution_count": 29,
   "id": "47978139",
   "metadata": {},
   "outputs": [
    {
     "name": "stdout",
     "output_type": "stream",
     "text": [
      "[[7 7 7 7 7]\n",
      " [7 7 7 7 7]\n",
      " [7 7 7 7 7]]\n"
     ]
    }
   ],
   "source": [
    "e = np.full((3,5),7) #to create a array with a default val\n",
    "print(e)"
   ]
  },
  {
   "cell_type": "code",
   "execution_count": 32,
   "id": "071addb7",
   "metadata": {},
   "outputs": [
    {
     "name": "stdout",
     "output_type": "stream",
     "text": [
      "[[1 0 0]\n",
      " [0 1 0]\n",
      " [0 0 1]]\n"
     ]
    }
   ],
   "source": [
    "a = np.eye((3),dtype = int)\n",
    "print(a) #identity matrix with 3x3"
   ]
  },
  {
   "cell_type": "code",
   "execution_count": 34,
   "id": "61aef315",
   "metadata": {},
   "outputs": [
    {
     "name": "stdout",
     "output_type": "stream",
     "text": [
      "[[0.43777676 0.07013095 0.99007102 0.33270163 0.76511879]\n",
      " [0.81176548 0.84375919 0.89745142 0.43932984 0.23049484]\n",
      " [0.23583511 0.6192202  0.3367097  0.83282114 0.38215467]\n",
      " [0.4286828  0.41019823 0.87061225 0.93808977 0.53189968]]\n"
     ]
    }
   ],
   "source": [
    "#array with random values\n",
    "a = np.random.random((4,5))\n",
    "print(a)"
   ]
  },
  {
   "cell_type": "code",
   "execution_count": 35,
   "id": "64462587",
   "metadata": {},
   "outputs": [
    {
     "name": "stdout",
     "output_type": "stream",
     "text": [
      "[[29 14 16]\n",
      " [24 24 19]]\n"
     ]
    }
   ],
   "source": [
    "#array with random value within a specific range\n",
    "b = np.random.randint(10,40,(2,3))\n",
    "print(b)"
   ]
  },
  {
   "cell_type": "code",
   "execution_count": 37,
   "id": "0b74c728",
   "metadata": {},
   "outputs": [
    {
     "name": "stdout",
     "output_type": "stream",
     "text": [
      "[10.         16.66666667 23.33333333 30.        ]\n"
     ]
    }
   ],
   "source": [
    "#np_array --> evenly spaced vals tell how much values you require\n",
    "b = np.linspace(10,30,4)\n",
    "print(b)"
   ]
  },
  {
   "cell_type": "code",
   "execution_count": 38,
   "id": "65ad411f",
   "metadata": {},
   "outputs": [
    {
     "name": "stdout",
     "output_type": "stream",
     "text": [
      "[10 14 18 22 26 30 34 38 42 46]\n"
     ]
    }
   ],
   "source": [
    "#np_array --> aranges wrt val provided and last is excluded\n",
    "c = np.arange(10,50,4)\n",
    "print(c)"
   ]
  },
  {
   "cell_type": "code",
   "execution_count": 39,
   "id": "f806581e",
   "metadata": {},
   "outputs": [
    {
     "name": "stdout",
     "output_type": "stream",
     "text": [
      "[1 2 3]\n"
     ]
    },
    {
     "data": {
      "text/plain": [
       "numpy.ndarray"
      ]
     },
     "execution_count": 39,
     "metadata": {},
     "output_type": "execute_result"
    }
   ],
   "source": [
    "#convert a list to numpy array \n",
    "list1 = [1,2,3]\n",
    "np_array = np.asarray(list1)\n",
    "print(np_array)\n",
    "type(np_array)"
   ]
  },
  {
   "cell_type": "markdown",
   "id": "d9f0c1b1",
   "metadata": {},
   "source": [
    "# analyzing array"
   ]
  },
  {
   "cell_type": "code",
   "execution_count": 40,
   "id": "83d30155",
   "metadata": {},
   "outputs": [],
   "source": [
    "c = np.random.randint(20,70,(3,3))"
   ]
  },
  {
   "cell_type": "code",
   "execution_count": 41,
   "id": "783a3917",
   "metadata": {},
   "outputs": [
    {
     "name": "stdout",
     "output_type": "stream",
     "text": [
      "[[56 54 44]\n",
      " [53 30 40]\n",
      " [33 28 67]]\n"
     ]
    }
   ],
   "source": [
    "print(c)"
   ]
  },
  {
   "cell_type": "code",
   "execution_count": 42,
   "id": "e5c951c8",
   "metadata": {},
   "outputs": [
    {
     "name": "stdout",
     "output_type": "stream",
     "text": [
      "(3, 3)\n"
     ]
    }
   ],
   "source": [
    "#array shape\n",
    "print(c.shape)"
   ]
  },
  {
   "cell_type": "code",
   "execution_count": 43,
   "id": "257692b8",
   "metadata": {},
   "outputs": [
    {
     "name": "stdout",
     "output_type": "stream",
     "text": [
      "2\n"
     ]
    }
   ],
   "source": [
    "#array dimensions\n",
    "print(c.ndim)"
   ]
  },
  {
   "cell_type": "code",
   "execution_count": 44,
   "id": "1c4f8741",
   "metadata": {},
   "outputs": [
    {
     "name": "stdout",
     "output_type": "stream",
     "text": [
      "int64\n"
     ]
    }
   ],
   "source": [
    "#array elements datatype\n",
    "print(c.dtype)"
   ]
  },
  {
   "cell_type": "code",
   "execution_count": 46,
   "id": "c33e42b9",
   "metadata": {},
   "outputs": [
    {
     "name": "stdout",
     "output_type": "stream",
     "text": [
      "9\n"
     ]
    }
   ],
   "source": [
    "#array size = total elements present\n",
    "print(c.size)"
   ]
  },
  {
   "cell_type": "markdown",
   "id": "fb444709",
   "metadata": {},
   "source": [
    "# mathematical operations on array"
   ]
  },
  {
   "cell_type": "code",
   "execution_count": 47,
   "id": "cab13134",
   "metadata": {},
   "outputs": [
    {
     "name": "stdout",
     "output_type": "stream",
     "text": [
      "[1, 2, 5, 3, 4, 6, 9, 0, 8, 7]\n"
     ]
    }
   ],
   "source": [
    "list1 = [1,2,5,3,4]\n",
    "list2 = [6,9,0,8,7]\n",
    "print(list1 + list2) #concatenate two lists"
   ]
  },
  {
   "cell_type": "code",
   "execution_count": 48,
   "id": "43e1410c",
   "metadata": {},
   "outputs": [
    {
     "name": "stdout",
     "output_type": "stream",
     "text": [
      "[[9 9 5]\n",
      " [3 6 3]\n",
      " [9 6 4]]\n",
      "[[11 19 15]\n",
      " [19 14 14]\n",
      " [17 17 10]]\n"
     ]
    }
   ],
   "source": [
    "c = np.random.randint(0,10,(3,3))\n",
    "d = np.random.randint(10,20,(3,3))\n",
    "print(c)\n",
    "print(d)"
   ]
  },
  {
   "cell_type": "code",
   "execution_count": 49,
   "id": "f112bc21",
   "metadata": {},
   "outputs": [
    {
     "name": "stdout",
     "output_type": "stream",
     "text": [
      "[[20 28 20]\n",
      " [22 20 17]\n",
      " [26 23 14]]\n",
      "[[ -2 -10 -10]\n",
      " [-16  -8 -11]\n",
      " [ -8 -11  -6]]\n",
      "[[ 99 171  75]\n",
      " [ 57  84  42]\n",
      " [153 102  40]]\n",
      "[[0.81818182 0.47368421 0.33333333]\n",
      " [0.15789474 0.42857143 0.21428571]\n",
      " [0.52941176 0.35294118 0.4       ]]\n"
     ]
    }
   ],
   "source": [
    "print(c+d)\n",
    "print(c-d)\n",
    "print(c*d)\n",
    "print(c/d)"
   ]
  },
  {
   "cell_type": "code",
   "execution_count": 51,
   "id": "9ec95b0c",
   "metadata": {},
   "outputs": [
    {
     "name": "stdout",
     "output_type": "stream",
     "text": [
      "[[20 28 20]\n",
      " [22 20 17]\n",
      " [26 23 14]]\n",
      "[[ -2 -10 -10]\n",
      " [-16  -8 -11]\n",
      " [ -8 -11  -6]]\n",
      "[[ 99 171  75]\n",
      " [ 57  84  42]\n",
      " [153 102  40]]\n",
      "[[0.81818182 0.47368421 0.33333333]\n",
      " [0.15789474 0.42857143 0.21428571]\n",
      " [0.52941176 0.35294118 0.4       ]]\n"
     ]
    }
   ],
   "source": [
    "print(np.add(c,d))\n",
    "print(np.subtract(c,d))\n",
    "print(np.multiply(c,d))\n",
    "print(np.divide(c,d)) \n",
    "#another way of doing basic mathematical operatons"
   ]
  },
  {
   "cell_type": "markdown",
   "id": "61dc9fd2",
   "metadata": {},
   "source": [
    "# array manipulation"
   ]
  },
  {
   "cell_type": "code",
   "execution_count": 52,
   "id": "6d34e914",
   "metadata": {},
   "outputs": [
    {
     "name": "stdout",
     "output_type": "stream",
     "text": [
      "[[7 2 8 5]\n",
      " [8 4 7 0]\n",
      " [8 6 2 3]]\n",
      "(3, 4)\n"
     ]
    }
   ],
   "source": [
    "a = np.random.randint(0,10,(3,4))\n",
    "print(a)\n",
    "print(a.shape)"
   ]
  },
  {
   "cell_type": "code",
   "execution_count": 53,
   "id": "b8e135fc",
   "metadata": {},
   "outputs": [
    {
     "name": "stdout",
     "output_type": "stream",
     "text": [
      "[[7 8 8]\n",
      " [2 4 6]\n",
      " [8 7 2]\n",
      " [5 0 3]]\n",
      "(4, 3)\n"
     ]
    }
   ],
   "source": [
    "trans = np.transpose(a)\n",
    "print(trans)\n",
    "print(trans.shape)"
   ]
  },
  {
   "cell_type": "code",
   "execution_count": 54,
   "id": "07f30443",
   "metadata": {},
   "outputs": [
    {
     "name": "stdout",
     "output_type": "stream",
     "text": [
      "[[7 8 8]\n",
      " [2 4 6]\n",
      " [8 7 2]\n",
      " [5 0 3]]\n",
      "(4, 3)\n"
     ]
    }
   ],
   "source": [
    "trans2 = a.T\n",
    "print(trans2)\n",
    "print(trans2.shape)"
   ]
  },
  {
   "cell_type": "code",
   "execution_count": 55,
   "id": "d63869d3",
   "metadata": {},
   "outputs": [
    {
     "name": "stdout",
     "output_type": "stream",
     "text": [
      "[[11 11 15 19 18]\n",
      " [15 16 10 18 19]\n",
      " [15 13 17 10 14]\n",
      " [14 11 13 14 11]]\n",
      "(4, 5)\n"
     ]
    }
   ],
   "source": [
    "#array reshaping\n",
    "b = np.random.randint(10,20,(4,5))\n",
    "print(b)\n",
    "print(b.shape)"
   ]
  },
  {
   "cell_type": "code",
   "execution_count": 56,
   "id": "03ba6c75",
   "metadata": {},
   "outputs": [
    {
     "name": "stdout",
     "output_type": "stream",
     "text": [
      "[[11 11 15 19]\n",
      " [18 15 16 10]\n",
      " [18 19 15 13]\n",
      " [17 10 14 14]\n",
      " [11 13 14 11]]\n",
      "(5, 4)\n"
     ]
    }
   ],
   "source": [
    "c = b.reshape(5,4)\n",
    "print(c)\n",
    "print(c.shape)"
   ]
  },
  {
   "cell_type": "code",
   "execution_count": null,
   "id": "dd8099ba",
   "metadata": {},
   "outputs": [],
   "source": []
  }
 ],
 "metadata": {
  "kernelspec": {
   "display_name": "Python 3 (ipykernel)",
   "language": "python",
   "name": "python3"
  },
  "language_info": {
   "codemirror_mode": {
    "name": "ipython",
    "version": 3
   },
   "file_extension": ".py",
   "mimetype": "text/x-python",
   "name": "python",
   "nbconvert_exporter": "python",
   "pygments_lexer": "ipython3",
   "version": "3.11.5"
  }
 },
 "nbformat": 4,
 "nbformat_minor": 5
}
