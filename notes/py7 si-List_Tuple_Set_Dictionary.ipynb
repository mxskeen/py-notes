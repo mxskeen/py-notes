{
 "cells": [
  {
   "cell_type": "markdown",
   "metadata": {
    "id": "M6FYZhxWa-2t"
   },
   "source": [
    "Types of Objects in Python:\n",
    "1. Immutable Objects\n",
    "2. Mutable Objects"
   ]
  },
  {
   "cell_type": "markdown",
   "metadata": {
    "id": "jtGu0nbsbDOW"
   },
   "source": [
    "Immutable Objects:\n",
    "1. int\n",
    "2. float\n",
    "3. string\n",
    "4. bool\n",
    "5. tuple"
   ]
  },
  {
   "cell_type": "markdown",
   "metadata": {
    "id": "ekg3pl-kbFQR"
   },
   "source": [
    "Mutable Objects:\n",
    "1. List\n",
    "2. Set\n",
    "3. Dictionary"
   ]
  },
  {
   "cell_type": "markdown",
   "metadata": {
    "id": "yLbT5WmhfD1C"
   },
   "source": [
    "List"
   ]
  },
  {
   "cell_type": "code",
   "execution_count": 1,
   "metadata": {
    "colab": {
     "base_uri": "https://localhost:8080/"
    },
    "id": "UMGYv02qa8yY",
    "outputId": "ab9a8c00-da19-43c0-9f40-8909b5f36116"
   },
   "outputs": [
    {
     "name": "stdout",
     "output_type": "stream",
     "text": [
      "[1, 2, 3, 4, 5]\n"
     ]
    },
    {
     "data": {
      "text/plain": [
       "list"
      ]
     },
     "execution_count": 1,
     "metadata": {},
     "output_type": "execute_result"
    }
   ],
   "source": [
    "# list should be included in the square brackets\n",
    "my_list = [1,2,3,4,5]\n",
    "print(my_list)\n",
    "type(my_list)"
   ]
  },
  {
   "cell_type": "code",
   "execution_count": 2,
   "metadata": {
    "colab": {
     "base_uri": "https://localhost:8080/"
    },
    "id": "vNOsdYcOfZrM",
    "outputId": "57f8576e-16c0-4d2b-aea3-dfb1aa90c459"
   },
   "outputs": [
    {
     "name": "stdout",
     "output_type": "stream",
     "text": [
      "[2, 3, 1.8, 'English', True]\n"
     ]
    }
   ],
   "source": [
    "# lists can have multiple data types\n",
    "my_list = [2, 3, 1.8, 'English', True]\n",
    "print(my_list)"
   ]
  },
  {
   "cell_type": "markdown",
   "metadata": {
    "id": "kR0CJMjefx3n"
   },
   "source": [
    "Lists are Mutable --> Changeable"
   ]
  },
  {
   "cell_type": "code",
   "execution_count": 3,
   "metadata": {
    "colab": {
     "base_uri": "https://localhost:8080/"
    },
    "id": "cDqAI-_tfvrD",
    "outputId": "2fb2c7bf-ee32-4324-da7e-2160337af74c"
   },
   "outputs": [
    {
     "name": "stdout",
     "output_type": "stream",
     "text": [
      "[2, 3, 1.8, 'English', True, 6]\n"
     ]
    }
   ],
   "source": [
    "# add elements to a list\n",
    "my_list = [2, 3, 1.8, 'English', True]\n",
    "my_list.append(6)\n",
    "print(my_list)"
   ]
  },
  {
   "cell_type": "code",
   "execution_count": 4,
   "metadata": {
    "colab": {
     "base_uri": "https://localhost:8080/"
    },
    "id": "HGY-f8TxgEuB",
    "outputId": "9b8e0118-f59e-45d4-b5f8-e2640ccdeb31"
   },
   "outputs": [
    {
     "name": "stdout",
     "output_type": "stream",
     "text": [
      "2\n",
      "1.8\n"
     ]
    }
   ],
   "source": [
    "# print elements of a list using their index\n",
    "print(my_list[0])\n",
    "print(my_list[2])"
   ]
  },
  {
   "cell_type": "code",
   "execution_count": 5,
   "metadata": {
    "colab": {
     "base_uri": "https://localhost:8080/"
    },
    "id": "SRJrejNegWyM",
    "outputId": "27e590f9-2120-4889-8847-3d16bc65b532"
   },
   "outputs": [
    {
     "name": "stdout",
     "output_type": "stream",
     "text": [
      "[1, 2, 3, 4, 5, 12, 2, 3]\n"
     ]
    }
   ],
   "source": [
    "# lists allow duplicate values\n",
    "list_1 = [1,2,3,4,5,12,2,3]\n",
    "print(list_1)"
   ]
  },
  {
   "cell_type": "code",
   "execution_count": 6,
   "metadata": {
    "colab": {
     "base_uri": "https://localhost:8080/"
    },
    "id": "OhSx_qZkgk3R",
    "outputId": "361672c3-066f-403e-e1b3-e7fc9705f50a"
   },
   "outputs": [
    {
     "name": "stdout",
     "output_type": "stream",
     "text": [
      "8\n"
     ]
    }
   ],
   "source": [
    "print(len(list_1))"
   ]
  },
  {
   "cell_type": "code",
   "execution_count": 7,
   "metadata": {
    "colab": {
     "base_uri": "https://localhost:8080/"
    },
    "id": "KoBSERrlgvn4",
    "outputId": "3ee49f45-da7b-4725-f266-e08db56c8f0f"
   },
   "outputs": [
    {
     "name": "stdout",
     "output_type": "stream",
     "text": [
      "[]\n"
     ]
    }
   ],
   "source": [
    "# initiating an empty list\n",
    "list_2 = []\n",
    "print(list_2)"
   ]
  },
  {
   "cell_type": "code",
   "execution_count": 8,
   "metadata": {
    "colab": {
     "base_uri": "https://localhost:8080/"
    },
    "id": "-PJaFQltg4YM",
    "outputId": "5e84ec9a-b23f-4423-884c-6dfc5f6ba47a"
   },
   "outputs": [
    {
     "name": "stdout",
     "output_type": "stream",
     "text": [
      "[5]\n"
     ]
    }
   ],
   "source": [
    "list_2.append(5)\n",
    "print(list_2)"
   ]
  },
  {
   "cell_type": "code",
   "execution_count": 9,
   "metadata": {
    "colab": {
     "base_uri": "https://localhost:8080/"
    },
    "id": "nU3FsBd6g-B2",
    "outputId": "5696a372-ca3b-4ee3-8b3c-6b775037588f"
   },
   "outputs": [
    {
     "name": "stdout",
     "output_type": "stream",
     "text": [
      "[2, 3, 1.8, 'English', True, 6]\n",
      "[2, 3, 'English', True, 6]\n"
     ]
    }
   ],
   "source": [
    "# delete an item in a list\n",
    "list_2 = [2, 3, 1.8, 'English', True, 6]\n",
    "print(list_2)\n",
    "\n",
    "del list_2[2]\n",
    "print(list_2)"
   ]
  },
  {
   "cell_type": "code",
   "execution_count": 10,
   "metadata": {
    "colab": {
     "base_uri": "https://localhost:8080/"
    },
    "id": "XbQAGCA0hX3Q",
    "outputId": "68e91d96-56ad-4c7e-b7e2-653c247eceff"
   },
   "outputs": [
    {
     "name": "stdout",
     "output_type": "stream",
     "text": [
      "[1, 2, 3, 4, 5, 6, 7, 8, 9, 10]\n"
     ]
    }
   ],
   "source": [
    "# join two lists\n",
    "list_3 = [1,2,3,4,5]\n",
    "list_4 = [6,7,8,9,10]\n",
    "\n",
    "list_5 = list_3 + list_4\n",
    "print(list_5)"
   ]
  },
  {
   "cell_type": "markdown",
   "metadata": {
    "id": "XoQULhPEhsSk"
   },
   "source": [
    "Tuple"
   ]
  },
  {
   "cell_type": "code",
   "execution_count": 11,
   "metadata": {
    "colab": {
     "base_uri": "https://localhost:8080/"
    },
    "id": "VSTos6r1hoAo",
    "outputId": "b5c78c19-51bb-4732-cdef-7aeb0ff0683b"
   },
   "outputs": [
    {
     "name": "stdout",
     "output_type": "stream",
     "text": [
      "(2, 3, 4, 5)\n"
     ]
    },
    {
     "data": {
      "text/plain": [
       "tuple"
      ]
     },
     "execution_count": 11,
     "metadata": {},
     "output_type": "execute_result"
    }
   ],
   "source": [
    "tuple_1 = (2,3,4,5)\n",
    "print(tuple_1)\n",
    "type(tuple_1)"
   ]
  },
  {
   "cell_type": "code",
   "execution_count": 12,
   "metadata": {
    "colab": {
     "base_uri": "https://localhost:8080/"
    },
    "id": "Tdrh8JsAh37C",
    "outputId": "a0a52f85-7058-4001-d799-b8a6fc298153"
   },
   "outputs": [
    {
     "name": "stdout",
     "output_type": "stream",
     "text": [
      "(1, 2, 3.5, 'Machine Learning', False)\n"
     ]
    }
   ],
   "source": [
    "# tuple allows multiple data types\n",
    "tuple_2 = (1,2,3.5, 'Machine Learning', False)\n",
    "print(tuple_2)"
   ]
  },
  {
   "cell_type": "code",
   "execution_count": 13,
   "metadata": {
    "colab": {
     "base_uri": "https://localhost:8080/"
    },
    "id": "tHxHt22fiIAg",
    "outputId": "c09d925e-9289-4cd5-9fff-52b47d8e75ef"
   },
   "outputs": [
    {
     "name": "stdout",
     "output_type": "stream",
     "text": [
      "[3, 4, 5, 6]\n",
      "(3, 4, 5, 6)\n"
     ]
    }
   ],
   "source": [
    "# converting  a list to a tuple\n",
    "\n",
    "my_list = [3,4,5,6]\n",
    "print(my_list)\n",
    "\n",
    "my_tuple = tuple(my_list)\n",
    "print(my_tuple)"
   ]
  },
  {
   "cell_type": "code",
   "execution_count": 14,
   "metadata": {
    "colab": {
     "base_uri": "https://localhost:8080/"
    },
    "id": "9QRTalV1iay1",
    "outputId": "9f983fcd-54f8-42f4-93fb-b468e78b39df"
   },
   "outputs": [
    {
     "name": "stdout",
     "output_type": "stream",
     "text": [
      "3\n",
      "4\n"
     ]
    }
   ],
   "source": [
    "print(my_tuple[0])\n",
    "print(my_tuple[1])"
   ]
  },
  {
   "cell_type": "markdown",
   "metadata": {
    "id": "nzLtSOHCirRc"
   },
   "source": [
    "Tuples are immutable --> Unchangeable"
   ]
  },
  {
   "cell_type": "code",
   "execution_count": 15,
   "metadata": {
    "colab": {
     "base_uri": "https://localhost:8080/",
     "height": 171
    },
    "id": "OXIstbesipDG",
    "outputId": "39957510-c58e-4568-b548-1921f85435b1"
   },
   "outputs": [
    {
     "ename": "AttributeError",
     "evalue": "'tuple' object has no attribute 'append'",
     "output_type": "error",
     "traceback": [
      "\u001b[0;31m---------------------------------------------------------------------------\u001b[0m",
      "\u001b[0;31mAttributeError\u001b[0m                            Traceback (most recent call last)",
      "Cell \u001b[0;32mIn[15], line 1\u001b[0m\n\u001b[0;32m----> 1\u001b[0m my_tuple\u001b[38;5;241m.\u001b[39mappend(\u001b[38;5;241m6\u001b[39m)\n",
      "\u001b[0;31mAttributeError\u001b[0m: 'tuple' object has no attribute 'append'"
     ]
    }
   ],
   "source": [
    "my_tuple.append(6)"
   ]
  },
  {
   "cell_type": "code",
   "execution_count": 16,
   "metadata": {
    "colab": {
     "base_uri": "https://localhost:8080/"
    },
    "id": "AlOVmz6Sizsu",
    "outputId": "8426c1ba-c637-413f-bf99-9a4f6423d99e"
   },
   "outputs": [
    {
     "name": "stdout",
     "output_type": "stream",
     "text": [
      "4\n"
     ]
    }
   ],
   "source": [
    "print(len(my_tuple))"
   ]
  },
  {
   "cell_type": "markdown",
   "metadata": {
    "id": "ORc0vJDHjAwS"
   },
   "source": [
    "Set"
   ]
  },
  {
   "cell_type": "code",
   "execution_count": 17,
   "metadata": {
    "colab": {
     "base_uri": "https://localhost:8080/"
    },
    "id": "RjaxKroji9mw",
    "outputId": "97cfe499-855c-46a8-dc3f-15d6d17ffd9b"
   },
   "outputs": [
    {
     "name": "stdout",
     "output_type": "stream",
     "text": [
      "{1, 2, 3, 4, 5}\n"
     ]
    },
    {
     "data": {
      "text/plain": [
       "set"
      ]
     },
     "execution_count": 17,
     "metadata": {},
     "output_type": "execute_result"
    }
   ],
   "source": [
    "# set --> Curly brackets\n",
    "my_set = {1,2,3,4,5}\n",
    "print(my_set)\n",
    "type(my_set)"
   ]
  },
  {
   "cell_type": "code",
   "execution_count": null,
   "metadata": {
    "colab": {
     "base_uri": "https://localhost:8080/",
     "height": 171
    },
    "id": "8ngbZxf0jMXk",
    "outputId": "f928e779-a7ee-453b-fbe3-9af839c25356"
   },
   "outputs": [
    {
     "ename": "TypeError",
     "evalue": "ignored",
     "output_type": "error",
     "traceback": [
      "\u001b[0;31m---------------------------------------------------------------------------\u001b[0m",
      "\u001b[0;31mTypeError\u001b[0m                                 Traceback (most recent call last)",
      "\u001b[0;32m<ipython-input-18-502d757570ee>\u001b[0m in \u001b[0;36m<module>\u001b[0;34m()\u001b[0m\n\u001b[0;32m----> 1\u001b[0;31m \u001b[0mprint\u001b[0m\u001b[0;34m(\u001b[0m\u001b[0mmy_set\u001b[0m\u001b[0;34m[\u001b[0m\u001b[0;36m0\u001b[0m\u001b[0;34m]\u001b[0m\u001b[0;34m)\u001b[0m\u001b[0;34m\u001b[0m\u001b[0;34m\u001b[0m\u001b[0m\n\u001b[0m",
      "\u001b[0;31mTypeError\u001b[0m: 'set' object does not support indexing"
     ]
    }
   ],
   "source": [
    "print(my_set[0])"
   ]
  },
  {
   "cell_type": "code",
   "execution_count": 18,
   "metadata": {
    "colab": {
     "base_uri": "https://localhost:8080/"
    },
    "id": "65IgJYA5jVzr",
    "outputId": "77a0b6cc-72d2-495e-f4cc-a1cf60175622"
   },
   "outputs": [
    {
     "name": "stdout",
     "output_type": "stream",
     "text": [
      "{4, 5, 6, 7, 8}\n"
     ]
    }
   ],
   "source": [
    "# convert a list to a set\n",
    "list_5 = [4,5,6,7,8]\n",
    "\n",
    "x = set(list_5)\n",
    "print(x)"
   ]
  },
  {
   "cell_type": "code",
   "execution_count": 19,
   "metadata": {
    "colab": {
     "base_uri": "https://localhost:8080/"
    },
    "id": "_0D3WDuZjrI_",
    "outputId": "a56d3ed5-0c3c-4993-f46b-a7314862e915"
   },
   "outputs": [
    {
     "name": "stdout",
     "output_type": "stream",
     "text": [
      "{1, 2, 3, 4, 5}\n"
     ]
    }
   ],
   "source": [
    "# set does not allow duplicate values\n",
    "set_3 = {1,2,3,4,5,1,2,3}\n",
    "print(set_3)"
   ]
  },
  {
   "cell_type": "markdown",
   "metadata": {
    "id": "W6i0Eo53j7Sx"
   },
   "source": [
    "Dictionary"
   ]
  },
  {
   "cell_type": "markdown",
   "metadata": {
    "id": "8zHFSdZdj-o9"
   },
   "source": [
    "Key-Value Pair"
   ]
  },
  {
   "cell_type": "code",
   "execution_count": 20,
   "metadata": {
    "colab": {
     "base_uri": "https://localhost:8080/"
    },
    "id": "RZJjR0oYj3iK",
    "outputId": "928c40b2-ad74-4f8f-d941-aa9afff89b7d"
   },
   "outputs": [
    {
     "name": "stdout",
     "output_type": "stream",
     "text": [
      "{'name': 'David', 'age': 30, 'country': 'India'}\n"
     ]
    },
    {
     "data": {
      "text/plain": [
       "dict"
      ]
     },
     "execution_count": 20,
     "metadata": {},
     "output_type": "execute_result"
    }
   ],
   "source": [
    "my_dictionary = {'name':'David','age':30,'country':'India'}\n",
    "print(my_dictionary)\n",
    "type(my_dictionary)"
   ]
  },
  {
   "cell_type": "code",
   "execution_count": 21,
   "metadata": {
    "colab": {
     "base_uri": "https://localhost:8080/"
    },
    "id": "gOCf8w7OkVjE",
    "outputId": "f781a022-30aa-4022-a996-fee5b54df4b0"
   },
   "outputs": [
    {
     "name": "stdout",
     "output_type": "stream",
     "text": [
      "David\n",
      "30\n",
      "India\n"
     ]
    }
   ],
   "source": [
    "print(my_dictionary['name'])\n",
    "print(my_dictionary['age'])\n",
    "print(my_dictionary['country'])"
   ]
  },
  {
   "cell_type": "code",
   "execution_count": 22,
   "metadata": {
    "colab": {
     "base_uri": "https://localhost:8080/"
    },
    "id": "8AOHTq6bkoq2",
    "outputId": "8954d823-76bf-4bdc-b7bf-50e668bc19e5"
   },
   "outputs": [
    {
     "name": "stdout",
     "output_type": "stream",
     "text": [
      "{'name': 'David', 'age': 30, 'country': 'India'}\n"
     ]
    }
   ],
   "source": [
    "# dictionary does not allow duplicate values\n",
    "dictionary_2 = {'name':'David','age':30,'country':'India','name':'David','age':30,'country':'India'}\n",
    "print(dictionary_2)"
   ]
  },
  {
   "cell_type": "code",
   "execution_count": null,
   "metadata": {
    "id": "zwQtG_KYk6q9"
   },
   "outputs": [],
   "source": []
  }
 ],
 "metadata": {
  "colab": {
   "provenance": []
  },
  "kernelspec": {
   "display_name": "Python 3 (ipykernel)",
   "language": "python",
   "name": "python3"
  },
  "language_info": {
   "codemirror_mode": {
    "name": "ipython",
    "version": 3
   },
   "file_extension": ".py",
   "mimetype": "text/x-python",
   "name": "python",
   "nbconvert_exporter": "python",
   "pygments_lexer": "ipython3",
   "version": "3.11.3"
  }
 },
 "nbformat": 4,
 "nbformat_minor": 1
}
