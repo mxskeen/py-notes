{
 "cells": [
  {
   "cell_type": "markdown",
   "id": "36a3088c",
   "metadata": {},
   "source": [
    "# py 1"
   ]
  },
  {
   "cell_type": "markdown",
   "id": "65f1cc4b",
   "metadata": {},
   "source": [
    "maskeen"
   ]
  },
  {
   "cell_type": "markdown",
   "id": "750c70e0",
   "metadata": {},
   "source": [
    "# python notes "
   ]
  },
  {
   "cell_type": "code",
   "execution_count": 56,
   "id": "d10157bb",
   "metadata": {},
   "outputs": [],
   "source": [
    "#  hash is use for commenting in py also we can use ''' ''' for multi line comments"
   ]
  },
  {
   "cell_type": "code",
   "execution_count": 47,
   "id": "c3c56326",
   "metadata": {},
   "outputs": [],
   "source": [
    "# to know more about a function press shift + tab before the bracket of function ## try near print function"
   ]
  },
  {
   "cell_type": "code",
   "execution_count": 43,
   "id": "aa69694b",
   "metadata": {},
   "outputs": [
    {
     "data": {
      "text/plain": [
       "'ggggggggggggggg'"
      ]
     },
     "execution_count": 43,
     "metadata": {},
     "output_type": "execute_result"
    }
   ],
   "source": [
    "5 * 'ggg' # int * str gives multiply string into n times int"
   ]
  },
  {
   "cell_type": "code",
   "execution_count": 44,
   "id": "21a530ea",
   "metadata": {},
   "outputs": [],
   "source": [
    "# normal arthematic operations"
   ]
  },
  {
   "cell_type": "code",
   "execution_count": 3,
   "id": "6b85c099",
   "metadata": {},
   "outputs": [
    {
     "data": {
      "text/plain": [
       "64"
      ]
     },
     "execution_count": 3,
     "metadata": {},
     "output_type": "execute_result"
    }
   ],
   "source": [
    "8 * 8"
   ]
  },
  {
   "cell_type": "code",
   "execution_count": 4,
   "id": "6c856fac",
   "metadata": {},
   "outputs": [
    {
     "data": {
      "text/plain": [
       "18"
      ]
     },
     "execution_count": 4,
     "metadata": {},
     "output_type": "execute_result"
    }
   ],
   "source": [
    "9+9"
   ]
  },
  {
   "cell_type": "code",
   "execution_count": 5,
   "id": "42b154b0",
   "metadata": {},
   "outputs": [
    {
     "data": {
      "text/plain": [
       "3"
      ]
     },
     "execution_count": 5,
     "metadata": {},
     "output_type": "execute_result"
    }
   ],
   "source": [
    "9-6"
   ]
  },
  {
   "cell_type": "code",
   "execution_count": 6,
   "id": "3e5c9aa6",
   "metadata": {},
   "outputs": [
    {
     "data": {
      "text/plain": [
       "100"
      ]
     },
     "execution_count": 6,
     "metadata": {},
     "output_type": "execute_result"
    }
   ],
   "source": [
    "10**2"
   ]
  },
  {
   "cell_type": "code",
   "execution_count": 16,
   "id": "89b8d0ce",
   "metadata": {},
   "outputs": [],
   "source": [
    "# data type checking "
   ]
  },
  {
   "cell_type": "code",
   "execution_count": 17,
   "id": "4c0f4c04",
   "metadata": {},
   "outputs": [],
   "source": [
    "# type is a inbuilt function in python"
   ]
  },
  {
   "cell_type": "code",
   "execution_count": 9,
   "id": "06ef382b",
   "metadata": {},
   "outputs": [
    {
     "data": {
      "text/plain": [
       "int"
      ]
     },
     "execution_count": 9,
     "metadata": {},
     "output_type": "execute_result"
    }
   ],
   "source": [
    "type(1) #data type checking"
   ]
  },
  {
   "cell_type": "code",
   "execution_count": 15,
   "id": "b52981fe",
   "metadata": {},
   "outputs": [
    {
     "data": {
      "text/plain": [
       "str"
      ]
     },
     "execution_count": 15,
     "metadata": {},
     "output_type": "execute_result"
    }
   ],
   "source": [
    "type(\"zr\") ''' data type '''"
   ]
  },
  {
   "cell_type": "code",
   "execution_count": 18,
   "id": "37346dae",
   "metadata": {},
   "outputs": [
    {
     "data": {
      "text/plain": [
       "bool"
      ]
     },
     "execution_count": 18,
     "metadata": {},
     "output_type": "execute_result"
    }
   ],
   "source": [
    "type(True) #reserved keyword in py"
   ]
  },
  {
   "cell_type": "markdown",
   "id": "a3e02cd9",
   "metadata": {},
   "source": [
    "# strings"
   ]
  },
  {
   "cell_type": "code",
   "execution_count": 19,
   "id": "77f2cdea",
   "metadata": {},
   "outputs": [],
   "source": [
    "# strings can be enclosed in '' and \" \""
   ]
  },
  {
   "cell_type": "code",
   "execution_count": 20,
   "id": "07b8478b",
   "metadata": {},
   "outputs": [
    {
     "name": "stdout",
     "output_type": "stream",
     "text": [
      "hello\n"
     ]
    }
   ],
   "source": [
    "print('hello')"
   ]
  },
  {
   "cell_type": "code",
   "execution_count": 22,
   "id": "7f924d13",
   "metadata": {},
   "outputs": [
    {
     "name": "stdout",
     "output_type": "stream",
     "text": [
      "hello\n"
     ]
    }
   ],
   "source": [
    "print(\"hello\")"
   ]
  },
  {
   "cell_type": "markdown",
   "id": "e01d2d87",
   "metadata": {},
   "source": [
    "# variable assignment"
   ]
  },
  {
   "cell_type": "code",
   "execution_count": 24,
   "id": "74c771af",
   "metadata": {},
   "outputs": [],
   "source": [
    "#syntax\n",
    "\n",
    "# var_name=values    '=' is the assignment operator\n",
    "\n",
    "# var can be assigned as strings or int or other data types"
   ]
  },
  {
   "cell_type": "code",
   "execution_count": 25,
   "id": "69d4edb7",
   "metadata": {},
   "outputs": [],
   "source": [
    "a=10"
   ]
  },
  {
   "cell_type": "code",
   "execution_count": 26,
   "id": "38aa8921",
   "metadata": {},
   "outputs": [
    {
     "data": {
      "text/plain": [
       "int"
      ]
     },
     "execution_count": 26,
     "metadata": {},
     "output_type": "execute_result"
    }
   ],
   "source": [
    "type(a)"
   ]
  },
  {
   "cell_type": "code",
   "execution_count": 27,
   "id": "5302d2f0",
   "metadata": {},
   "outputs": [],
   "source": [
    "a=10.9"
   ]
  },
  {
   "cell_type": "code",
   "execution_count": 28,
   "id": "9818a56a",
   "metadata": {},
   "outputs": [
    {
     "data": {
      "text/plain": [
       "float"
      ]
     },
     "execution_count": 28,
     "metadata": {},
     "output_type": "execute_result"
    }
   ],
   "source": [
    "type(a)"
   ]
  },
  {
   "cell_type": "code",
   "execution_count": 29,
   "id": "4646be54",
   "metadata": {},
   "outputs": [],
   "source": [
    "a=30\n",
    "b=2"
   ]
  },
  {
   "cell_type": "code",
   "execution_count": 41,
   "id": "685f3b53",
   "metadata": {},
   "outputs": [
    {
     "name": "stdout",
     "output_type": "stream",
     "text": [
      "32\n",
      "28\n",
      "60\n",
      "15.0\n",
      "900\n",
      "0\n"
     ]
    }
   ],
   "source": [
    "print(a+b) #addition\n",
    "print(a-b) #subtract\n",
    "print(a*b) #multiplication\n",
    "print(a/b) #division\n",
    "print(a**b) #a to the power b\n",
    "print(a%b)  #in rhis if a>b and upon dividing a by b a remainder comes then that shows as ouput. if remainder = 0 then output = 0. if a<b then output is 0"
   ]
  },
  {
   "cell_type": "code",
   "execution_count": 40,
   "id": "658e7611",
   "metadata": {},
   "outputs": [
    {
     "name": "stdout",
     "output_type": "stream",
     "text": [
      "10\n"
     ]
    }
   ],
   "source": [
    "print(30%20)"
   ]
  },
  {
   "cell_type": "code",
   "execution_count": 42,
   "id": "56314d31",
   "metadata": {},
   "outputs": [
    {
     "name": "stdout",
     "output_type": "stream",
     "text": [
      "25\n"
     ]
    }
   ],
   "source": [
    "print ((10*2)+(2+3)) #BODMAS"
   ]
  },
  {
   "cell_type": "code",
   "execution_count": 63,
   "id": "74e88e27",
   "metadata": {},
   "outputs": [
    {
     "data": {
      "text/plain": [
       "3"
      ]
     },
     "execution_count": 63,
     "metadata": {},
     "output_type": "execute_result"
    }
   ],
   "source": [
    "len('hey') #len is a function in python for length "
   ]
  },
  {
   "cell_type": "markdown",
   "id": "2d3e0098",
   "metadata": {},
   "source": [
    "# ways of printing in python"
   ]
  },
  {
   "cell_type": "code",
   "execution_count": 49,
   "id": "14bab212",
   "metadata": {},
   "outputs": [
    {
     "name": "stdout",
     "output_type": "stream",
     "text": [
      "hello\n"
     ]
    }
   ],
   "source": [
    "print('hello') #for basic stuff"
   ]
  },
  {
   "cell_type": "code",
   "execution_count": 50,
   "id": "966f25c4",
   "metadata": {},
   "outputs": [],
   "source": [
    "#dynamic stuff"
   ]
  },
  {
   "cell_type": "code",
   "execution_count": 52,
   "id": "857f4457",
   "metadata": {},
   "outputs": [],
   "source": [
    "first_name = 'maskeen'\n",
    "last_name = 'singh'"
   ]
  },
  {
   "cell_type": "code",
   "execution_count": 59,
   "id": "5c7950ec",
   "metadata": {},
   "outputs": [
    {
     "name": "stdout",
     "output_type": "stream",
     "text": [
      "my first name is maskeen and last name is singh\n"
     ]
    }
   ],
   "source": [
    "print(\"my first name is {} and last name is {}\".format(first_name,last_name)) # each {} will get value from the order of format is last_name is written first then instead of maskeen , singh will be printed "
   ]
  },
  {
   "cell_type": "code",
   "execution_count": 62,
   "id": "40bafb1b",
   "metadata": {},
   "outputs": [
    {
     "name": "stdout",
     "output_type": "stream",
     "text": [
      "my first name is maskeen and last name is singh\n"
     ]
    }
   ],
   "source": [
    "print(\"my first name is {first} and last name is {last}\".format(first=first_name,last=last_name)) #this is better as in this the order of format doesnt matter and printing is done in a better way"
   ]
  },
  {
   "cell_type": "code",
   "execution_count": null,
   "id": "53a728ee",
   "metadata": {},
   "outputs": [],
   "source": []
  }
 ],
 "metadata": {
  "kernelspec": {
   "display_name": "Python 3 (ipykernel)",
   "language": "python",
   "name": "python3"
  },
  "language_info": {
   "codemirror_mode": {
    "name": "ipython",
    "version": 3
   },
   "file_extension": ".py",
   "mimetype": "text/x-python",
   "name": "python",
   "nbconvert_exporter": "python",
   "pygments_lexer": "ipython3",
   "version": "3.11.3"
  }
 },
 "nbformat": 4,
 "nbformat_minor": 5
}
