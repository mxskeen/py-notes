{
 "cells": [
  {
   "cell_type": "markdown",
   "id": "e3e0887c",
   "metadata": {},
   "source": [
    "# Functions: \n",
    "\n",
    "Function is a block of code that can be reused in a Program"
   ]
  },
  {
   "cell_type": "code",
   "execution_count": 8,
   "id": "2ea16080",
   "metadata": {},
   "outputs": [
    {
     "name": "stdout",
     "output_type": "stream",
     "text": [
      " Enter a number to find its factorial : 4\n",
      "The factorial of  4  is 24\n"
     ]
    }
   ],
   "source": [
    "number = int(input(' Enter a number to find its factorial : '))\n",
    "\n",
    "factorial = 1\n",
    "\n",
    "if number == 0:\n",
    "  print(' The Factorial of 0 is 1')\n",
    "\n",
    "else:\n",
    "  for i in range(1, number+1):    \n",
    "    factorial = factorial*i\n",
    "  print('The factorial of ',number,' is',factorial)   "
   ]
  },
  {
   "cell_type": "markdown",
   "id": "582076a1",
   "metadata": {
    "scrolled": true
   },
   "source": [
    "# factorial function"
   ]
  },
  {
   "cell_type": "code",
   "execution_count": 21,
   "id": "f02afe9e",
   "metadata": {
    "scrolled": true
   },
   "outputs": [],
   "source": [
    "def factorial_val(num):\n",
    "    factorial =1\n",
    "    if num==0:\n",
    "        return factorial\n",
    "    else:\n",
    "        for i in range(1, num+1):\n",
    "            factorial=factorial*i\n",
    "    return factorial"
   ]
  },
  {
   "cell_type": "code",
   "execution_count": 22,
   "id": "c2a5e074",
   "metadata": {},
   "outputs": [
    {
     "name": "stdout",
     "output_type": "stream",
     "text": [
      "6\n"
     ]
    }
   ],
   "source": [
    "print(factorial_val(3))"
   ]
  },
  {
   "cell_type": "code",
   "execution_count": 23,
   "id": "0e332bf7",
   "metadata": {},
   "outputs": [
    {
     "name": "stdout",
     "output_type": "stream",
     "text": [
      "720\n"
     ]
    }
   ],
   "source": [
    "print(factorial_val(6))"
   ]
  },
  {
   "cell_type": "code",
   "execution_count": 24,
   "id": "f4f64af6",
   "metadata": {},
   "outputs": [],
   "source": [
    "#we defined with def and used return for returning a value"
   ]
  },
  {
   "cell_type": "code",
   "execution_count": null,
   "id": "6c11c381",
   "metadata": {},
   "outputs": [],
   "source": []
  }
 ],
 "metadata": {
  "kernelspec": {
   "display_name": "Python 3 (ipykernel)",
   "language": "python",
   "name": "python3"
  },
  "language_info": {
   "codemirror_mode": {
    "name": "ipython",
    "version": 3
   },
   "file_extension": ".py",
   "mimetype": "text/x-python",
   "name": "python",
   "nbconvert_exporter": "python",
   "pygments_lexer": "ipython3",
   "version": "3.11.4"
  }
 },
 "nbformat": 4,
 "nbformat_minor": 5
}
