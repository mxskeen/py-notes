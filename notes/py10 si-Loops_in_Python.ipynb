{
 "cells": [
  {
   "cell_type": "markdown",
   "metadata": {
    "id": "l169EevJ4PYv"
   },
   "source": [
    "For loop"
   ]
  },
  {
   "cell_type": "code",
   "execution_count": null,
   "metadata": {
    "colab": {
     "base_uri": "https://localhost:8080/"
    },
    "id": "uy9loXNN3yon",
    "outputId": "2754a351-7c82-42db-f525-70b101937bfd"
   },
   "outputs": [
    {
     "name": "stdout",
     "output_type": "stream",
     "text": [
      "Enter the price of the laptop : 20000\n",
      "Enter the price of the laptop : 30000\n",
      "Enter the price of the laptop : 40000\n",
      "Enter the price of the laptop : 50000\n",
      "Enter the price of the laptop : 60000\n"
     ]
    }
   ],
   "source": [
    "laptop1 = int(input('Enter the price of the laptop : '))\n",
    "laptop2 = int(input('Enter the price of the laptop : '))\n",
    "laptop3 = int(input('Enter the price of the laptop : '))\n",
    "laptop4 = int(input('Enter the price of the laptop : '))\n",
    "laptop5 = int(input('Enter the price of the laptop : '))"
   ]
  },
  {
   "cell_type": "code",
   "execution_count": null,
   "metadata": {
    "colab": {
     "base_uri": "https://localhost:8080/"
    },
    "id": "W0YAxl-e4XfP",
    "outputId": "56f97315-444b-4618-b15c-5f177c795bd7"
   },
   "outputs": [
    {
     "name": "stdout",
     "output_type": "stream",
     "text": [
      "Enter the price of the laptop : 6\n",
      "Enter the price of the laptop : 7\n",
      "Enter the price of the laptop : 8\n",
      "Enter the price of the laptop : 9\n",
      "Enter the price of the laptop : 2\n",
      "Enter the price of the laptop : 3\n",
      "Enter the price of the laptop : 4\n"
     ]
    }
   ],
   "source": [
    "for i in range(7):    # 0,1,2,3,4,5,6\n",
    "  laptop_price = int(input('Enter the price of the laptop : '))"
   ]
  },
  {
   "cell_type": "code",
   "execution_count": null,
   "metadata": {
    "colab": {
     "base_uri": "https://localhost:8080/"
    },
    "id": "-9bvL0U_5QnH",
    "outputId": "89a12700-fe97-4870-8ebe-5ad59de4c9ed"
   },
   "outputs": [
    {
     "name": "stdout",
     "output_type": "stream",
     "text": [
      "50\n",
      "100\n",
      "150\n",
      "200\n"
     ]
    }
   ],
   "source": [
    "numbers = [50, 100, 150, 200]\n",
    "\n",
    "print(numbers[0])\n",
    "print(numbers[1])\n",
    "print(numbers[2])\n",
    "print(numbers[3])"
   ]
  },
  {
   "cell_type": "code",
   "execution_count": null,
   "metadata": {
    "colab": {
     "base_uri": "https://localhost:8080/"
    },
    "id": "I2OmCKt_6J3g",
    "outputId": "9d248bca-1edd-4605-a195-4b5c7c9fee63"
   },
   "outputs": [
    {
     "name": "stdout",
     "output_type": "stream",
     "text": [
      "50\n",
      "100\n",
      "150\n",
      "200\n"
     ]
    }
   ],
   "source": [
    "numbers = [50, 100, 150, 200]\n",
    "\n",
    "for i in numbers:\n",
    "  print(i)"
   ]
  },
  {
   "cell_type": "markdown",
   "metadata": {
    "id": "LZw0F_Ga6aeC"
   },
   "source": [
    "While Loop"
   ]
  },
  {
   "cell_type": "markdown",
   "metadata": {
    "id": "mjmPzJiV6src"
   },
   "source": [
    "while condition:\n",
    "\n",
    "    statement"
   ]
  },
  {
   "cell_type": "code",
   "execution_count": null,
   "metadata": {
    "colab": {
     "base_uri": "https://localhost:8080/"
    },
    "id": "7UCze9SW6RO6",
    "outputId": "f8ae520b-14bd-47aa-fd6d-7870824a84c5"
   },
   "outputs": [
    {
     "name": "stdout",
     "output_type": "stream",
     "text": [
      "0\n",
      "1\n",
      "2\n",
      "3\n",
      "4\n",
      "5\n",
      "6\n",
      "7\n",
      "8\n",
      "9\n"
     ]
    }
   ],
   "source": [
    "i = 0\n",
    "\n",
    "while i<10:\n",
    "  print(i)\n",
    "  i += 1"
   ]
  },
  {
   "cell_type": "code",
   "execution_count": null,
   "metadata": {
    "id": "5aYvGqVj7Lxw"
   },
   "outputs": [],
   "source": [
    "i = 5\n",
    "\n",
    "while i<3:\n",
    "  print(i)\n",
    "  i +=1"
   ]
  },
  {
   "cell_type": "markdown",
   "metadata": {},
   "source": [
    "# for loop is used where we know the range\n",
    "# and while is used where range is'nt specified\n",
    "both get executed when their respective statements are true."
   ]
  },
  {
   "cell_type": "code",
   "execution_count": null,
   "metadata": {},
   "outputs": [],
   "source": []
  }
 ],
 "metadata": {
  "colab": {
   "provenance": []
  },
  "kernelspec": {
   "display_name": "Python 3 (ipykernel)",
   "language": "python",
   "name": "python3"
  },
  "language_info": {
   "codemirror_mode": {
    "name": "ipython",
    "version": 3
   },
   "file_extension": ".py",
   "mimetype": "text/x-python",
   "name": "python",
   "nbconvert_exporter": "python",
   "pygments_lexer": "ipython3",
   "version": "3.11.3"
  }
 },
 "nbformat": 4,
 "nbformat_minor": 1
}

