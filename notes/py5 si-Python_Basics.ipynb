{
 "cells": [
  {
   "cell_type": "markdown",
   "metadata": {
    "id": "Osmh3yTEEv9q"
   },
   "source": [
    "Programming Languages used for Machine Learning:\n",
    "\n",
    "\n",
    "1.   Python\n",
    "2.   R\n",
    "\n"
   ]
  },
  {
   "cell_type": "markdown",
   "metadata": {
    "id": "-WvGy_yEMZqy"
   },
   "source": [
    "#print function"
   ]
  },
  {
   "cell_type": "code",
   "execution_count": 1,
   "metadata": {
    "colab": {
     "base_uri": "https://localhost:8080/"
    },
    "id": "GtMDf70aAf6y",
    "outputId": "2490e348-2413-4793-94fc-6b59a3d16b6d"
   },
   "outputs": [
    {
     "name": "stdout",
     "output_type": "stream",
     "text": [
      "Machine Learning\n"
     ]
    }
   ],
   "source": [
    "print(\"Machine Learning\")"
   ]
  },
  {
   "cell_type": "code",
   "execution_count": 2,
   "metadata": {
    "colab": {
     "base_uri": "https://localhost:8080/"
    },
    "id": "jUmCKDnfMwQI",
    "outputId": "a4fdd49f-7662-4fed-87f6-9a447485b8c3"
   },
   "outputs": [
    {
     "name": "stdout",
     "output_type": "stream",
     "text": [
      "Machine Learning Projects\n"
     ]
    }
   ],
   "source": [
    "print(\"Machine Learning\" + \" Projects\")"
   ]
  },
  {
   "cell_type": "code",
   "execution_count": 3,
   "metadata": {
    "colab": {
     "base_uri": "https://localhost:8080/"
    },
    "id": "cALbaqqGNBHZ",
    "outputId": "dd9ff49b-cc05-419d-8b5b-4fe0c2389de3"
   },
   "outputs": [
    {
     "name": "stdout",
     "output_type": "stream",
     "text": [
      "8\n"
     ]
    }
   ],
   "source": [
    "print(8)"
   ]
  },
  {
   "cell_type": "code",
   "execution_count": 4,
   "metadata": {
    "colab": {
     "base_uri": "https://localhost:8080/"
    },
    "id": "VIIKdqyhNJct",
    "outputId": "363e9cc6-6a7a-4c14-ffde-3550abd9cb64"
   },
   "outputs": [
    {
     "name": "stdout",
     "output_type": "stream",
     "text": [
      "11\n"
     ]
    }
   ],
   "source": [
    "print(8+3)"
   ]
  },
  {
   "cell_type": "markdown",
   "metadata": {
    "id": "VoF-mwOrNd47"
   },
   "source": [
    "#Basic Data types:\n",
    "\n",
    "\n",
    "1.   int\n",
    "2.   float\n",
    "3.   str\n",
    "\n",
    "\n",
    "\n"
   ]
  },
  {
   "cell_type": "code",
   "execution_count": 5,
   "metadata": {
    "colab": {
     "base_uri": "https://localhost:8080/"
    },
    "id": "c2C2CWT2NpAD",
    "outputId": "693ca04f-08c3-485f-dfe4-b81611cc7d12"
   },
   "outputs": [
    {
     "data": {
      "text/plain": [
       "int"
      ]
     },
     "execution_count": 5,
     "metadata": {},
     "output_type": "execute_result"
    }
   ],
   "source": [
    "type(8)"
   ]
  },
  {
   "cell_type": "code",
   "execution_count": 6,
   "metadata": {
    "colab": {
     "base_uri": "https://localhost:8080/"
    },
    "id": "ruZzAZODN171",
    "outputId": "94a876c3-3bcd-4bc1-85a2-5b10be2d9646"
   },
   "outputs": [
    {
     "data": {
      "text/plain": [
       "float"
      ]
     },
     "execution_count": 6,
     "metadata": {},
     "output_type": "execute_result"
    }
   ],
   "source": [
    "type(5.3)"
   ]
  },
  {
   "cell_type": "code",
   "execution_count": 7,
   "metadata": {
    "colab": {
     "base_uri": "https://localhost:8080/"
    },
    "id": "UM8_vIwfN4dn",
    "outputId": "a58c3967-088c-4b38-c280-dce8831cc6aa"
   },
   "outputs": [
    {
     "data": {
      "text/plain": [
       "str"
      ]
     },
     "execution_count": 7,
     "metadata": {},
     "output_type": "execute_result"
    }
   ],
   "source": [
    "type(\"english\")"
   ]
  },
  {
   "cell_type": "markdown",
   "metadata": {
    "id": "TF5JGYWwOCZ9"
   },
   "source": [
    "#Constants & Variables"
   ]
  },
  {
   "cell_type": "code",
   "execution_count": 8,
   "metadata": {
    "colab": {
     "base_uri": "https://localhost:8080/"
    },
    "id": "ln8ikHIZN8mZ",
    "outputId": "79f115f1-fe00-4124-c487-7f24919d75e7"
   },
   "outputs": [
    {
     "name": "stdout",
     "output_type": "stream",
     "text": [
      "Iron Man\n"
     ]
    }
   ],
   "source": [
    "marvel_super_hero = \"Iron Man\"\n",
    "print(marvel_super_hero)"
   ]
  },
  {
   "cell_type": "code",
   "execution_count": 9,
   "metadata": {
    "colab": {
     "base_uri": "https://localhost:8080/"
    },
    "id": "2MT4Km5gOecW",
    "outputId": "586a1876-c3a0-4fbb-c05b-2f7ac065fc9e"
   },
   "outputs": [
    {
     "name": "stdout",
     "output_type": "stream",
     "text": [
      "Captain America\n"
     ]
    }
   ],
   "source": [
    "marvel_super_hero = \"Captain America\"\n",
    "print(marvel_super_hero)"
   ]
  },
  {
   "cell_type": "code",
   "execution_count": 10,
   "metadata": {
    "colab": {
     "base_uri": "https://localhost:8080/"
    },
    "id": "26ZG7J36O1Gm",
    "outputId": "4a1473ac-f3ec-4b72-fce0-584e3bd2c5d6"
   },
   "outputs": [
    {
     "name": "stdout",
     "output_type": "stream",
     "text": [
      "Iron Man\n",
      "Captain America\n",
      "Bat Man\n"
     ]
    }
   ],
   "source": [
    "hero1 , hero2 , hero3 = \"Iron Man\" , \"Captain America\" , \"Bat Man\"\n",
    "print(hero1)\n",
    "print(hero2)\n",
    "print(hero3)"
   ]
  },
  {
   "cell_type": "code",
   "execution_count": 11,
   "metadata": {
    "colab": {
     "base_uri": "https://localhost:8080/"
    },
    "id": "Y9nqEMNPPM26",
    "outputId": "283f2b35-9761-4baa-fd9b-75842416d2a3"
   },
   "outputs": [
    {
     "name": "stdout",
     "output_type": "stream",
     "text": [
      "23\n",
      "23\n",
      "23\n"
     ]
    }
   ],
   "source": [
    "x = y = z = 23\n",
    "print(x)\n",
    "print(y)\n",
    "print(z)"
   ]
  },
  {
   "cell_type": "markdown",
   "metadata": {
    "id": "0Z9JChvaPpsm"
   },
   "source": [
    "# input Function"
   ]
  },
  {
   "cell_type": "code",
   "execution_count": 12,
   "metadata": {
    "colab": {
     "base_uri": "https://localhost:8080/"
    },
    "id": "roZJU-IXPrvk",
    "outputId": "44179667-ddfc-4d42-bf5b-606397aea2ee"
   },
   "outputs": [
    {
     "name": "stdout",
     "output_type": "stream",
     "text": [
      "Enter the first number : 22\n",
      "Enter the second number : 33\n",
      "55\n"
     ]
    }
   ],
   "source": [
    "number_1 = int(input(\"Enter the first number : \"))\n",
    "number_2 = int(input(\"Enter the second number : \"))\n",
    "\n",
    "sum = number_1 + number_2\n",
    "print(sum)"
   ]
  },
  {
   "cell_type": "code",
   "execution_count": 13,
   "metadata": {
    "colab": {
     "base_uri": "https://localhost:8080/"
    },
    "id": "HKcz9StaP-PF",
    "outputId": "001eeff8-e36b-4286-a12a-e26e54ab7ed9"
   },
   "outputs": [
    {
     "name": "stdout",
     "output_type": "stream",
     "text": [
      "5.0\n"
     ]
    }
   ],
   "source": [
    "# changing the data type in python:\n",
    "num = 5\n",
    "print(float(num))\n"
   ]
  },
  {
   "cell_type": "code",
   "execution_count": null,
   "metadata": {},
   "outputs": [],
   "source": []
  }
 ],
 "metadata": {
  "colab": {
   "collapsed_sections": [
    "-WvGy_yEMZqy",
    "VoF-mwOrNd47",
    "TF5JGYWwOCZ9",
    "0Z9JChvaPpsm"
   ],
   "provenance": []
  },
  "kernelspec": {
   "display_name": "Python 3 (ipykernel)",
   "language": "python",
   "name": "python3"
  },
  "language_info": {
   "codemirror_mode": {
    "name": "ipython",
    "version": 3
   },
   "file_extension": ".py",
   "mimetype": "text/x-python",
   "name": "python",
   "nbconvert_exporter": "python",
   "pygments_lexer": "ipython3",
   "version": "3.11.3"
  }
 },
 "nbformat": 4,
 "nbformat_minor": 1
}
