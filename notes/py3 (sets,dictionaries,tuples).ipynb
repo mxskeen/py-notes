{
 "cells": [
  {
   "cell_type": "markdown",
   "id": "922d5a9f",
   "metadata": {},
   "source": [
    "# Sets"
   ]
  },
  {
   "cell_type": "markdown",
   "id": "506a3b00",
   "metadata": {},
   "source": [
    "## A Set is an unordered collection data type that is iterable, mutable, and has no duplicate elements. Python's set class represents the mathematical notion of a set.This is based on a data structure known as a hash table"
   ]
  },
  {
   "cell_type": "code",
   "execution_count": 1,
   "id": "313ee384",
   "metadata": {},
   "outputs": [
    {
     "name": "stdout",
     "output_type": "stream",
     "text": [
      "set()\n",
      "<class 'set'>\n"
     ]
    }
   ],
   "source": [
    "## Defining an empty set\n",
    "\n",
    "set_var= set()\n",
    "print(set_var)\n",
    "print(type(set_var))"
   ]
  },
  {
   "cell_type": "code",
   "execution_count": 9,
   "id": "cf828f9a",
   "metadata": {},
   "outputs": [],
   "source": [
    "set_var={1,2,3,7} #in set elements are added in curly braces {}"
   ]
  },
  {
   "cell_type": "code",
   "execution_count": 6,
   "id": "6abd6402",
   "metadata": {},
   "outputs": [
    {
     "data": {
      "text/plain": [
       "{1, 2, 3, 7}"
      ]
     },
     "execution_count": 6,
     "metadata": {},
     "output_type": "execute_result"
    }
   ],
   "source": [
    "set_var   #for printing set also set doesnt have any duplicate value"
   ]
  },
  {
   "cell_type": "code",
   "execution_count": 8,
   "id": "515be4ba",
   "metadata": {},
   "outputs": [
    {
     "name": "stdout",
     "output_type": "stream",
     "text": [
      "{1, 2, 3, 7}\n"
     ]
    }
   ],
   "source": [
    "print(set_var)  #o.g way of printing"
   ]
  },
  {
   "cell_type": "code",
   "execution_count": 10,
   "id": "fe3e7d44",
   "metadata": {},
   "outputs": [
    {
     "name": "stdout",
     "output_type": "stream",
     "text": [
      "{'alpha', 'gamma', 'beta'}\n"
     ]
    },
    {
     "data": {
      "text/plain": [
       "set"
      ]
     },
     "execution_count": 10,
     "metadata": {},
     "output_type": "execute_result"
    }
   ],
   "source": [
    "set_var={\"alpha\",\"beta\",'gamma'}\n",
    "print(set_var)\n",
    "type(set_var)"
   ]
  },
  {
   "cell_type": "code",
   "execution_count": 11,
   "id": "ae6022b6",
   "metadata": {},
   "outputs": [],
   "source": [
    "#for adding new element in a existing set\n",
    "\n",
    "#syntax\n",
    "\n",
    "# setname.add('element')"
   ]
  },
  {
   "cell_type": "code",
   "execution_count": 12,
   "id": "809119f6",
   "metadata": {},
   "outputs": [],
   "source": [
    "set_var.add(\"zeta\")"
   ]
  },
  {
   "cell_type": "code",
   "execution_count": 13,
   "id": "0462b968",
   "metadata": {},
   "outputs": [
    {
     "data": {
      "text/plain": [
       "{'alpha', 'beta', 'gamma', 'zeta'}"
      ]
     },
     "execution_count": 13,
     "metadata": {},
     "output_type": "execute_result"
    }
   ],
   "source": [
    "set_var"
   ]
  },
  {
   "cell_type": "markdown",
   "id": "f217e30f",
   "metadata": {},
   "source": [
    "# operations on sets"
   ]
  },
  {
   "cell_type": "code",
   "execution_count": 14,
   "id": "475b2cf6",
   "metadata": {},
   "outputs": [],
   "source": [
    "#lets take 2 sets"
   ]
  },
  {
   "cell_type": "code",
   "execution_count": 15,
   "id": "45398c2a",
   "metadata": {},
   "outputs": [],
   "source": [
    "set1={\"alpha\",\"beta\",\"gamma\",\"delta\"}\n",
    "set2={\"beta\",\"gamma\",\"iota\"}"
   ]
  },
  {
   "cell_type": "code",
   "execution_count": 17,
   "id": "f1e34d46",
   "metadata": {},
   "outputs": [
    {
     "data": {
      "text/plain": [
       "{'iota'}"
      ]
     },
     "execution_count": 17,
     "metadata": {},
     "output_type": "execute_result"
    }
   ],
   "source": [
    "set2.difference(set1) #just write the first set (from which we want to subract then write operation then in (second set name))"
   ]
  },
  {
   "cell_type": "code",
   "execution_count": 18,
   "id": "103440a8",
   "metadata": {},
   "outputs": [],
   "source": [
    "#but using difference won't update the original set to update it we use update with difference or any operation we use."
   ]
  },
  {
   "cell_type": "code",
   "execution_count": 20,
   "id": "3dc84cac",
   "metadata": {},
   "outputs": [
    {
     "data": {
      "text/plain": [
       "{'beta', 'gamma', 'iota'}"
      ]
     },
     "execution_count": 20,
     "metadata": {},
     "output_type": "execute_result"
    }
   ],
   "source": [
    "set2 #it doesnt get updated"
   ]
  },
  {
   "cell_type": "code",
   "execution_count": 21,
   "id": "8dd77e3c",
   "metadata": {},
   "outputs": [],
   "source": [
    "#to update the original set\n",
    "set2.difference_update(set1)"
   ]
  },
  {
   "cell_type": "code",
   "execution_count": 23,
   "id": "d127af45",
   "metadata": {},
   "outputs": [
    {
     "data": {
      "text/plain": [
       "{'iota'}"
      ]
     },
     "execution_count": 23,
     "metadata": {},
     "output_type": "execute_result"
    }
   ],
   "source": [
    "set2 #updated "
   ]
  },
  {
   "cell_type": "code",
   "execution_count": 24,
   "id": "c51f9ebf",
   "metadata": {},
   "outputs": [],
   "source": [
    "#similary we do other operations too\n",
    "#to explore more press Tab after setname. "
   ]
  },
  {
   "cell_type": "code",
   "execution_count": 26,
   "id": "ee4808bc",
   "metadata": {},
   "outputs": [
    {
     "data": {
      "text/plain": [
       "{'alpha', 'beta', 'delta', 'gamma'}"
      ]
     },
     "execution_count": 26,
     "metadata": {},
     "output_type": "execute_result"
    }
   ],
   "source": [
    "set1"
   ]
  },
  {
   "cell_type": "code",
   "execution_count": 28,
   "id": "df0f5b8d",
   "metadata": {},
   "outputs": [],
   "source": [
    "set3={\"gamma\",\"epsilon\",\"mu\"}"
   ]
  },
  {
   "cell_type": "code",
   "execution_count": 32,
   "id": "d646ec7c",
   "metadata": {},
   "outputs": [
    {
     "data": {
      "text/plain": [
       "{'gamma'}"
      ]
     },
     "execution_count": 32,
     "metadata": {},
     "output_type": "execute_result"
    }
   ],
   "source": [
    "set3.intersection(set1) #set3 is'nt updated "
   ]
  },
  {
   "cell_type": "code",
   "execution_count": 30,
   "id": "232431aa",
   "metadata": {},
   "outputs": [],
   "source": [
    "#similar for updating use\n",
    "set3.intersection_update(set1)"
   ]
  },
  {
   "cell_type": "code",
   "execution_count": 33,
   "id": "d3f42f48",
   "metadata": {},
   "outputs": [
    {
     "data": {
      "text/plain": [
       "{'gamma'}"
      ]
     },
     "execution_count": 33,
     "metadata": {},
     "output_type": "execute_result"
    }
   ],
   "source": [
    "set3"
   ]
  },
  {
   "cell_type": "markdown",
   "id": "a5661a5d",
   "metadata": {},
   "source": [
    "# Dictionaries"
   ]
  },
  {
   "cell_type": "code",
   "execution_count": 41,
   "id": "19af33f2",
   "metadata": {},
   "outputs": [],
   "source": [
    "#A dictionary is a collection which is unordered, changeable and indexed. In Python dictionaries are written with curly brackets, and they have keys and values."
   ]
  },
  {
   "cell_type": "code",
   "execution_count": 42,
   "id": "6e9ad3b5",
   "metadata": {},
   "outputs": [],
   "source": [
    "#difference between dict and set\n",
    "# in set we directly put values inside{}\n",
    "#and in dict we assign value element value to each variable "
   ]
  },
  {
   "cell_type": "code",
   "execution_count": 45,
   "id": "42715bbc",
   "metadata": {},
   "outputs": [
    {
     "data": {
      "text/plain": [
       "dict"
      ]
     },
     "execution_count": 45,
     "metadata": {},
     "output_type": "execute_result"
    }
   ],
   "source": [
    "#python inbuilt dictionary variable is dict()\n",
    "type(dict())"
   ]
  },
  {
   "cell_type": "code",
   "execution_count": 44,
   "id": "879d1ecc",
   "metadata": {},
   "outputs": [],
   "source": [
    "## Let create a dictionary\n",
    "\n",
    "my_dict={\"Car1\": \"Audi\", \"Car2\":\"BMW\",\"Car3\":\"Benz\"}\n"
   ]
  },
  {
   "cell_type": "code",
   "execution_count": 46,
   "id": "00236ae7",
   "metadata": {},
   "outputs": [
    {
     "data": {
      "text/plain": [
       "dict"
      ]
     },
     "execution_count": 46,
     "metadata": {},
     "output_type": "execute_result"
    }
   ],
   "source": [
    "type(my_dict)"
   ]
  },
  {
   "cell_type": "code",
   "execution_count": 47,
   "id": "c0c1ed0c",
   "metadata": {},
   "outputs": [
    {
     "data": {
      "text/plain": [
       "'Audi'"
      ]
     },
     "execution_count": 47,
     "metadata": {},
     "output_type": "execute_result"
    }
   ],
   "source": [
    "##Access the item values based on keys\n",
    "\n",
    "my_dict['Car1']\n"
   ]
  },
  {
   "cell_type": "code",
   "execution_count": 48,
   "id": "1ffcee46",
   "metadata": {},
   "outputs": [
    {
     "name": "stdout",
     "output_type": "stream",
     "text": [
      "Car1\n",
      "Car2\n",
      "Car3\n"
     ]
    }
   ],
   "source": [
    "# We can even loop throught the dictionaries keys\n",
    "for x in my_dict:\n",
    "    print(x)"
   ]
  },
  {
   "cell_type": "code",
   "execution_count": 49,
   "id": "0cd861fe",
   "metadata": {},
   "outputs": [
    {
     "name": "stdout",
     "output_type": "stream",
     "text": [
      "Audi\n",
      "BMW\n",
      "Benz\n"
     ]
    }
   ],
   "source": [
    "# We can even loop throught the dictionaries values\n",
    "for x in my_dict.values():\n",
    "    print(x)"
   ]
  },
  {
   "cell_type": "code",
   "execution_count": 50,
   "id": "dd32c6dd",
   "metadata": {},
   "outputs": [
    {
     "name": "stdout",
     "output_type": "stream",
     "text": [
      "('Car1', 'Audi')\n",
      "('Car2', 'BMW')\n",
      "('Car3', 'Benz')\n"
     ]
    }
   ],
   "source": [
    "# We can also check both keys and values\n",
    "for x in my_dict.items():\n",
    "    print(x)"
   ]
  },
  {
   "cell_type": "code",
   "execution_count": 55,
   "id": "f96795ac",
   "metadata": {
    "scrolled": false
   },
   "outputs": [],
   "source": [
    "## Adding items in Dictionaries"
   ]
  },
  {
   "cell_type": "code",
   "execution_count": 52,
   "id": "039dab61",
   "metadata": {},
   "outputs": [],
   "source": [
    "my_dict['car4']='polo'"
   ]
  },
  {
   "cell_type": "code",
   "execution_count": 53,
   "id": "42f8722d",
   "metadata": {},
   "outputs": [
    {
     "data": {
      "text/plain": [
       "{'Car1': 'Audi', 'Car2': 'BMW', 'Car3': 'Benz', 'car4': 'polo'}"
      ]
     },
     "execution_count": 53,
     "metadata": {},
     "output_type": "execute_result"
    }
   ],
   "source": [
    "my_dict"
   ]
  },
  {
   "cell_type": "code",
   "execution_count": 56,
   "id": "377beaab",
   "metadata": {},
   "outputs": [],
   "source": [
    "#for changing the existing value just assign the new value to variable"
   ]
  },
  {
   "cell_type": "code",
   "execution_count": 57,
   "id": "596d5cbb",
   "metadata": {},
   "outputs": [],
   "source": [
    "my_dict['Car1']='Tesla'"
   ]
  },
  {
   "cell_type": "code",
   "execution_count": 58,
   "id": "215dbf86",
   "metadata": {},
   "outputs": [
    {
     "data": {
      "text/plain": [
       "{'Car1': 'Tesla', 'Car2': 'BMW', 'Car3': 'Benz', 'car4': 'polo'}"
      ]
     },
     "execution_count": 58,
     "metadata": {},
     "output_type": "execute_result"
    }
   ],
   "source": [
    "my_dict"
   ]
  },
  {
   "cell_type": "markdown",
   "id": "ad074e44",
   "metadata": {},
   "source": [
    "# Nested Dictionaries"
   ]
  },
  {
   "cell_type": "code",
   "execution_count": 60,
   "id": "b84fd1ee",
   "metadata": {},
   "outputs": [],
   "source": [
    "car1_model={'Audi':1950}\n",
    "car2_model={'Benz':1980}\n",
    "car3_model={'Polo':1972}\n",
    "car_type={'car1':car1_model,'car2':car2_model,'car3':car3_model}"
   ]
  },
  {
   "cell_type": "code",
   "execution_count": 61,
   "id": "5ddddaa5",
   "metadata": {},
   "outputs": [
    {
     "data": {
      "text/plain": [
       "dict"
      ]
     },
     "execution_count": 61,
     "metadata": {},
     "output_type": "execute_result"
    }
   ],
   "source": [
    "type(car_type)"
   ]
  },
  {
   "cell_type": "code",
   "execution_count": 62,
   "id": "7ab3eba3",
   "metadata": {},
   "outputs": [
    {
     "name": "stdout",
     "output_type": "stream",
     "text": [
      "{'car1': {'Audi': 1950}, 'car2': {'Benz': 1980}, 'car3': {'Polo': 1972}}\n"
     ]
    }
   ],
   "source": [
    "print(car_type)"
   ]
  },
  {
   "cell_type": "code",
   "execution_count": 63,
   "id": "7ddc1baf",
   "metadata": {},
   "outputs": [
    {
     "name": "stdout",
     "output_type": "stream",
     "text": [
      "{'Audi': 1950}\n"
     ]
    }
   ],
   "source": [
    "## Accessing the items in the dictionary\n",
    "\n",
    "print(car_type['car1'])"
   ]
  },
  {
   "cell_type": "code",
   "execution_count": 67,
   "id": "ba4df5bb",
   "metadata": {},
   "outputs": [
    {
     "name": "stdout",
     "output_type": "stream",
     "text": [
      "1950\n"
     ]
    }
   ],
   "source": [
    "print(car_type['car1']['Audi'])"
   ]
  },
  {
   "cell_type": "markdown",
   "id": "ea38f0d2",
   "metadata": {},
   "source": [
    "# Tuples\n",
    "##in tuples we can't change the value of the variable once assigned. we can only change the whole tuple"
   ]
  },
  {
   "cell_type": "code",
   "execution_count": 70,
   "id": "81739df4",
   "metadata": {},
   "outputs": [],
   "source": [
    "## create an empty Tuples\n",
    "\n",
    "my_tuple=tuple() #in tuple we use ()"
   ]
  },
  {
   "cell_type": "code",
   "execution_count": 69,
   "id": "58d3a799",
   "metadata": {},
   "outputs": [
    {
     "data": {
      "text/plain": [
       "tuple"
      ]
     },
     "execution_count": 69,
     "metadata": {},
     "output_type": "execute_result"
    }
   ],
   "source": [
    "type(my_tuple)"
   ]
  },
  {
   "cell_type": "code",
   "execution_count": 72,
   "id": "18f0479c",
   "metadata": {},
   "outputs": [],
   "source": [
    "my_tuple=('zsh','fish','bash')"
   ]
  },
  {
   "cell_type": "markdown",
   "id": "2262e8a6",
   "metadata": {},
   "source": [
    "#print tuple\n"
   ]
  },
  {
   "cell_type": "code",
   "execution_count": 73,
   "id": "d85e03a2",
   "metadata": {},
   "outputs": [
    {
     "data": {
      "text/plain": [
       "('zsh', 'fish', 'bash')"
      ]
     },
     "execution_count": 73,
     "metadata": {},
     "output_type": "execute_result"
    }
   ],
   "source": [
    "my_tuple"
   ]
  },
  {
   "cell_type": "code",
   "execution_count": 74,
   "id": "f64bc695",
   "metadata": {},
   "outputs": [
    {
     "data": {
      "text/plain": [
       "1"
      ]
     },
     "execution_count": 74,
     "metadata": {},
     "output_type": "execute_result"
    }
   ],
   "source": [
    "## Inbuilt function\n",
    "my_tuple.count('zsh')"
   ]
  },
  {
   "cell_type": "code",
   "execution_count": 76,
   "id": "a5f72792",
   "metadata": {},
   "outputs": [
    {
     "data": {
      "text/plain": [
       "2"
      ]
     },
     "execution_count": 76,
     "metadata": {},
     "output_type": "execute_result"
    }
   ],
   "source": [
    "my_tuple.index('bash')"
   ]
  },
  {
   "cell_type": "code",
   "execution_count": null,
   "id": "93efd6b4",
   "metadata": {},
   "outputs": [],
   "source": []
  }
 ],
 "metadata": {
  "kernelspec": {
   "display_name": "Python 3 (ipykernel)",
   "language": "python",
   "name": "python3"
  },
  "language_info": {
   "codemirror_mode": {
    "name": "ipython",
    "version": 3
   },
   "file_extension": ".py",
   "mimetype": "text/x-python",
   "name": "python",
   "nbconvert_exporter": "python",
   "pygments_lexer": "ipython3",
   "version": "3.11.3"
  }
 },
 "nbformat": 4,
 "nbformat_minor": 5
}
